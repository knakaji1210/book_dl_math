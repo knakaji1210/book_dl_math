{
 "cells": [
  {
   "cell_type": "code",
   "execution_count": 1,
   "id": "b098f887",
   "metadata": {},
   "outputs": [],
   "source": [
    "# Macの問題回避\n",
    "import os\n",
    "import platform\n",
    "if platform.system() == 'Darwin':\n",
    "    os.environ['KMP_DUPLICATE_LIB_OK']='True'"
   ]
  },
  {
   "cell_type": "code",
   "execution_count": 2,
   "id": "1e3d40a7",
   "metadata": {},
   "outputs": [],
   "source": [
    "# 必要ライブラリの宣言\n",
    "%matplotlib inline\n",
    "import numpy as np\n",
    "import matplotlib.pyplot as plt\n",
    "import warnings\n",
    "warnings.filterwarnings('ignore')"
   ]
  },
  {
   "cell_type": "code",
   "execution_count": 3,
   "id": "d788d942",
   "metadata": {},
   "outputs": [
    {
     "name": "stdout",
     "output_type": "stream",
     "text": [
      "Downloading data from https://storage.googleapis.com/tensorflow/tf-keras-datasets/mnist.npz\n",
      "11493376/11490434 [==============================] - 1s 0us/step\n",
      "11501568/11490434 [==============================] - 1s 0us/step\n"
     ]
    }
   ],
   "source": [
    "# データ準備\n",
    "\n",
    "# 変数定義\n",
    "\n",
    "# D: 入力ノード数\n",
    "D = 784\n",
    "\n",
    "# H: 隠れ層のノード数\n",
    "H = 128\n",
    "\n",
    "# 分類クラス数\n",
    "num_classes = 10\n",
    "\n",
    "# Kerasの関数でデータの読み込み\n",
    "from keras.datasets import mnist\n",
    "(x_train_org, y_train), (x_test_org, y_test) \\\n",
    " = mnist.load_data()\n",
    "\n",
    "# 入力データの加工 (次元を1次元に)\n",
    "x_train = x_train_org.reshape(-1, D) / 255.0\n",
    "x_test = x_test_org.reshape((-1, D)) / 255.0\n",
    "\n",
    "# 正解データの加工 (One Hot Vectorに)\n",
    "from keras.utils import np_utils\n",
    "y_train_ohe =\\\n",
    " np_utils.to_categorical(y_train, num_classes)\n",
    "y_test_ohe =\\\n",
    " np_utils.to_categorical(y_test, num_classes)"
   ]
  },
  {
   "cell_type": "code",
   "execution_count": 4,
   "id": "58caccf7",
   "metadata": {},
   "outputs": [
    {
     "name": "stderr",
     "output_type": "stream",
     "text": [
      "2022-01-03 17:03:31.153550: I tensorflow/core/platform/cpu_feature_guard.cc:151] This TensorFlow binary is optimized with oneAPI Deep Neural Network Library (oneDNN) to use the following CPU instructions in performance-critical operations:  AVX2 FMA\n",
      "To enable them in other operations, rebuild TensorFlow with the appropriate compiler flags.\n"
     ]
    }
   ],
   "source": [
    "# モデルの定義\n",
    "\n",
    "# 必要ライブラリのロード\n",
    "from keras.models import Sequential\n",
    "from keras.layers import Dense\n",
    "\n",
    "# Sequentialモデルの定義\n",
    "model = Sequential()\n",
    "\n",
    "# 隠れ層1の定義\n",
    "model.add(Dense(H, activation='relu', input_shape=(D,)))\n",
    "\n",
    "# 隠れ層2の定義\n",
    "model.add(Dense(H, activation='relu'))\n",
    "\n",
    "# 出力層\n",
    "model.add(Dense(num_classes, activation='softmax'))\n",
    "\n",
    "# モデルのコンパイル\n",
    "model.compile(loss = 'categorical_crossentropy',\n",
    "              optimizer = 'sgd',\n",
    "              metrics=['accuracy'])"
   ]
  },
  {
   "cell_type": "code",
   "execution_count": 5,
   "id": "a582e76d",
   "metadata": {},
   "outputs": [
    {
     "name": "stdout",
     "output_type": "stream",
     "text": [
      "Epoch 1/50\n",
      "118/118 [==============================] - 1s 4ms/step - loss: 2.0513 - accuracy: 0.3891 - val_loss: 1.7440 - val_accuracy: 0.6305\n",
      "Epoch 2/50\n",
      "118/118 [==============================] - 0s 3ms/step - loss: 1.4299 - accuracy: 0.7117 - val_loss: 1.1059 - val_accuracy: 0.7721\n",
      "Epoch 3/50\n",
      "118/118 [==============================] - 0s 3ms/step - loss: 0.9362 - accuracy: 0.7984 - val_loss: 0.7671 - val_accuracy: 0.8227\n",
      "Epoch 4/50\n",
      "118/118 [==============================] - 0s 3ms/step - loss: 0.7037 - accuracy: 0.8307 - val_loss: 0.6125 - val_accuracy: 0.8447\n",
      "Epoch 5/50\n",
      "118/118 [==============================] - 0s 3ms/step - loss: 0.5879 - accuracy: 0.8500 - val_loss: 0.5271 - val_accuracy: 0.8615\n",
      "Epoch 6/50\n",
      "118/118 [==============================] - 0s 3ms/step - loss: 0.5192 - accuracy: 0.8640 - val_loss: 0.4737 - val_accuracy: 0.8745\n",
      "Epoch 7/50\n",
      "118/118 [==============================] - 0s 3ms/step - loss: 0.4733 - accuracy: 0.8742 - val_loss: 0.4362 - val_accuracy: 0.8830\n",
      "Epoch 8/50\n",
      "118/118 [==============================] - 0s 3ms/step - loss: 0.4402 - accuracy: 0.8810 - val_loss: 0.4079 - val_accuracy: 0.8894\n",
      "Epoch 9/50\n",
      "118/118 [==============================] - 0s 3ms/step - loss: 0.4151 - accuracy: 0.8868 - val_loss: 0.3857 - val_accuracy: 0.8951\n",
      "Epoch 10/50\n",
      "118/118 [==============================] - 0s 3ms/step - loss: 0.3953 - accuracy: 0.8906 - val_loss: 0.3686 - val_accuracy: 0.8979\n",
      "Epoch 11/50\n",
      "118/118 [==============================] - 0s 3ms/step - loss: 0.3792 - accuracy: 0.8948 - val_loss: 0.3536 - val_accuracy: 0.9034\n",
      "Epoch 12/50\n",
      "118/118 [==============================] - 0s 3ms/step - loss: 0.3656 - accuracy: 0.8980 - val_loss: 0.3432 - val_accuracy: 0.9049\n",
      "Epoch 13/50\n",
      "118/118 [==============================] - 0s 3ms/step - loss: 0.3541 - accuracy: 0.9007 - val_loss: 0.3317 - val_accuracy: 0.9073\n",
      "Epoch 14/50\n",
      "118/118 [==============================] - 0s 3ms/step - loss: 0.3441 - accuracy: 0.9034 - val_loss: 0.3235 - val_accuracy: 0.9086\n",
      "Epoch 15/50\n",
      "118/118 [==============================] - 0s 3ms/step - loss: 0.3351 - accuracy: 0.9055 - val_loss: 0.3158 - val_accuracy: 0.9111\n",
      "Epoch 16/50\n",
      "118/118 [==============================] - 0s 3ms/step - loss: 0.3272 - accuracy: 0.9072 - val_loss: 0.3089 - val_accuracy: 0.9133\n",
      "Epoch 17/50\n",
      "118/118 [==============================] - 0s 3ms/step - loss: 0.3199 - accuracy: 0.9092 - val_loss: 0.3018 - val_accuracy: 0.9148\n",
      "Epoch 18/50\n",
      "118/118 [==============================] - 0s 3ms/step - loss: 0.3135 - accuracy: 0.9106 - val_loss: 0.2969 - val_accuracy: 0.9165\n",
      "Epoch 19/50\n",
      "118/118 [==============================] - 0s 3ms/step - loss: 0.3075 - accuracy: 0.9121 - val_loss: 0.2908 - val_accuracy: 0.9176\n",
      "Epoch 20/50\n",
      "118/118 [==============================] - 0s 3ms/step - loss: 0.3019 - accuracy: 0.9139 - val_loss: 0.2863 - val_accuracy: 0.9180\n",
      "Epoch 21/50\n",
      "118/118 [==============================] - 0s 3ms/step - loss: 0.2966 - accuracy: 0.9153 - val_loss: 0.2818 - val_accuracy: 0.9198\n",
      "Epoch 22/50\n",
      "118/118 [==============================] - 0s 3ms/step - loss: 0.2918 - accuracy: 0.9173 - val_loss: 0.2769 - val_accuracy: 0.9215\n",
      "Epoch 23/50\n",
      "118/118 [==============================] - 0s 3ms/step - loss: 0.2872 - accuracy: 0.9182 - val_loss: 0.2727 - val_accuracy: 0.9224\n",
      "Epoch 24/50\n",
      "118/118 [==============================] - 0s 3ms/step - loss: 0.2829 - accuracy: 0.9196 - val_loss: 0.2692 - val_accuracy: 0.9234\n",
      "Epoch 25/50\n",
      "118/118 [==============================] - 0s 3ms/step - loss: 0.2786 - accuracy: 0.9206 - val_loss: 0.2657 - val_accuracy: 0.9251\n",
      "Epoch 26/50\n",
      "118/118 [==============================] - 0s 3ms/step - loss: 0.2748 - accuracy: 0.9217 - val_loss: 0.2617 - val_accuracy: 0.9257\n",
      "Epoch 27/50\n",
      "118/118 [==============================] - 0s 3ms/step - loss: 0.2710 - accuracy: 0.9229 - val_loss: 0.2594 - val_accuracy: 0.9265\n",
      "Epoch 28/50\n",
      "118/118 [==============================] - 0s 3ms/step - loss: 0.2675 - accuracy: 0.9237 - val_loss: 0.2554 - val_accuracy: 0.9273\n",
      "Epoch 29/50\n",
      "118/118 [==============================] - 0s 3ms/step - loss: 0.2639 - accuracy: 0.9252 - val_loss: 0.2524 - val_accuracy: 0.9270\n",
      "Epoch 30/50\n",
      "118/118 [==============================] - 0s 3ms/step - loss: 0.2607 - accuracy: 0.9259 - val_loss: 0.2495 - val_accuracy: 0.9281\n",
      "Epoch 31/50\n",
      "118/118 [==============================] - 0s 3ms/step - loss: 0.2575 - accuracy: 0.9268 - val_loss: 0.2467 - val_accuracy: 0.9287\n",
      "Epoch 32/50\n",
      "118/118 [==============================] - 0s 3ms/step - loss: 0.2544 - accuracy: 0.9276 - val_loss: 0.2442 - val_accuracy: 0.9298\n",
      "Epoch 33/50\n",
      "118/118 [==============================] - 0s 3ms/step - loss: 0.2514 - accuracy: 0.9288 - val_loss: 0.2419 - val_accuracy: 0.9310\n",
      "Epoch 34/50\n",
      "118/118 [==============================] - 0s 3ms/step - loss: 0.2485 - accuracy: 0.9295 - val_loss: 0.2389 - val_accuracy: 0.9324\n",
      "Epoch 35/50\n",
      "118/118 [==============================] - 0s 3ms/step - loss: 0.2457 - accuracy: 0.9306 - val_loss: 0.2363 - val_accuracy: 0.9332\n",
      "Epoch 36/50\n",
      "118/118 [==============================] - 0s 3ms/step - loss: 0.2430 - accuracy: 0.9313 - val_loss: 0.2337 - val_accuracy: 0.9333\n",
      "Epoch 37/50\n",
      "118/118 [==============================] - 0s 3ms/step - loss: 0.2403 - accuracy: 0.9321 - val_loss: 0.2325 - val_accuracy: 0.9333\n",
      "Epoch 38/50\n",
      "118/118 [==============================] - 0s 3ms/step - loss: 0.2376 - accuracy: 0.9325 - val_loss: 0.2295 - val_accuracy: 0.9341\n",
      "Epoch 39/50\n",
      "118/118 [==============================] - 0s 3ms/step - loss: 0.2352 - accuracy: 0.9335 - val_loss: 0.2275 - val_accuracy: 0.9354\n",
      "Epoch 40/50\n",
      "118/118 [==============================] - 0s 3ms/step - loss: 0.2327 - accuracy: 0.9342 - val_loss: 0.2249 - val_accuracy: 0.9354\n",
      "Epoch 41/50\n",
      "118/118 [==============================] - 0s 3ms/step - loss: 0.2303 - accuracy: 0.9351 - val_loss: 0.2232 - val_accuracy: 0.9351\n",
      "Epoch 42/50\n",
      "118/118 [==============================] - 0s 3ms/step - loss: 0.2280 - accuracy: 0.9355 - val_loss: 0.2212 - val_accuracy: 0.9364\n",
      "Epoch 43/50\n",
      "118/118 [==============================] - 0s 3ms/step - loss: 0.2257 - accuracy: 0.9366 - val_loss: 0.2185 - val_accuracy: 0.9375\n",
      "Epoch 44/50\n",
      "118/118 [==============================] - 0s 4ms/step - loss: 0.2235 - accuracy: 0.9367 - val_loss: 0.2170 - val_accuracy: 0.9383\n",
      "Epoch 45/50\n",
      "118/118 [==============================] - 0s 3ms/step - loss: 0.2214 - accuracy: 0.9375 - val_loss: 0.2152 - val_accuracy: 0.9384\n",
      "Epoch 46/50\n",
      "118/118 [==============================] - 0s 3ms/step - loss: 0.2191 - accuracy: 0.9378 - val_loss: 0.2132 - val_accuracy: 0.9375\n",
      "Epoch 47/50\n",
      "118/118 [==============================] - 0s 3ms/step - loss: 0.2171 - accuracy: 0.9385 - val_loss: 0.2109 - val_accuracy: 0.9390\n",
      "Epoch 48/50\n",
      "118/118 [==============================] - 0s 3ms/step - loss: 0.2151 - accuracy: 0.9390 - val_loss: 0.2107 - val_accuracy: 0.9386\n",
      "Epoch 49/50\n",
      "118/118 [==============================] - 0s 3ms/step - loss: 0.2130 - accuracy: 0.9395 - val_loss: 0.2079 - val_accuracy: 0.9392\n",
      "Epoch 50/50\n",
      "118/118 [==============================] - 0s 3ms/step - loss: 0.2111 - accuracy: 0.9401 - val_loss: 0.2059 - val_accuracy: 0.9398\n"
     ]
    }
   ],
   "source": [
    "# 学習\n",
    "\n",
    "# 学習の単位\n",
    "batch_size = 512\n",
    "\n",
    "# 繰り返し回数\n",
    "nb_epoch = 50\n",
    "\n",
    "# モデルの学習\n",
    "history1 = model.fit(\n",
    "    x_train, \n",
    "    y_train_ohe,\n",
    "    batch_size = batch_size, \n",
    "    epochs = nb_epoch,\n",
    "    verbose = 1, \n",
    "    validation_data = (x_test, y_test_ohe))"
   ]
  },
  {
   "cell_type": "code",
   "execution_count": 6,
   "id": "500689f0",
   "metadata": {},
   "outputs": [
    {
     "name": "stdout",
     "output_type": "stream",
     "text": [
      "1.0000001666666813\n"
     ]
    }
   ],
   "source": [
    "import numpy as np\n",
    "\n",
    "#  ネイピア数を底とする指数関数の定義\n",
    "def f(x):\n",
    "    return np.exp(x)\n",
    "\n",
    "# 微少な数 hの定義\n",
    "h = 0.001\n",
    "\n",
    "# f'(0)の近似計算\n",
    "# f'(0) = f(0) = 1に近い値になるはず\n",
    "diff = (f(0 + h) - f(0 - h))/(2 * h)\n",
    "\n",
    "# 結果の確認\n",
    "print(diff)"
   ]
  },
  {
   "cell_type": "code",
   "execution_count": 7,
   "id": "a155b98f",
   "metadata": {},
   "outputs": [],
   "source": [
    "# 必要ライブラリのロード\n",
    "from keras.models import Sequential\n",
    "from keras.layers import Dense\n",
    "\n",
    "# 学習の単位\n",
    "batch_size = 512\n",
    "\n",
    "# 繰り返し回数\n",
    "nb_epoch = 50"
   ]
  },
  {
   "cell_type": "code",
   "execution_count": 8,
   "id": "3b5134c8",
   "metadata": {},
   "outputs": [],
   "source": [
    "# Sequentialモデルの定義\n",
    "model = Sequential()\n",
    "\n",
    "# 隠れ層1の定義\n",
    "model.add(Dense(H, activation='relu', kernel_initializer='he_normal', input_shape=(D,)))\n",
    "\n",
    "# 隠れ層2の定義\n",
    "model.add(Dense(H, activation='relu', kernel_initializer='he_normal'))\n",
    "\n",
    "# 出力層\n",
    "model.add(Dense(num_classes, activation='softmax', kernel_initializer='he_normal'))"
   ]
  },
  {
   "cell_type": "code",
   "execution_count": 9,
   "id": "3d44aaf3",
   "metadata": {},
   "outputs": [
    {
     "name": "stdout",
     "output_type": "stream",
     "text": [
      "Epoch 1/50\n",
      "118/118 [==============================] - 1s 4ms/step - loss: 1.8430 - accuracy: 0.4803 - val_loss: 1.3526 - val_accuracy: 0.7424\n",
      "Epoch 2/50\n",
      "118/118 [==============================] - 0s 3ms/step - loss: 1.0634 - accuracy: 0.7856 - val_loss: 0.8099 - val_accuracy: 0.8280\n",
      "Epoch 3/50\n",
      "118/118 [==============================] - 0s 3ms/step - loss: 0.7133 - accuracy: 0.8369 - val_loss: 0.5992 - val_accuracy: 0.8593\n",
      "Epoch 4/50\n",
      "118/118 [==============================] - 0s 3ms/step - loss: 0.5662 - accuracy: 0.8612 - val_loss: 0.4995 - val_accuracy: 0.8772\n",
      "Epoch 5/50\n",
      "118/118 [==============================] - 0s 3ms/step - loss: 0.4898 - accuracy: 0.8745 - val_loss: 0.4426 - val_accuracy: 0.8870\n",
      "Epoch 6/50\n",
      "118/118 [==============================] - 0s 3ms/step - loss: 0.4432 - accuracy: 0.8832 - val_loss: 0.4060 - val_accuracy: 0.8945\n",
      "Epoch 7/50\n",
      "118/118 [==============================] - 0s 3ms/step - loss: 0.4113 - accuracy: 0.8902 - val_loss: 0.3808 - val_accuracy: 0.8988\n",
      "Epoch 8/50\n",
      "118/118 [==============================] - 0s 3ms/step - loss: 0.3879 - accuracy: 0.8949 - val_loss: 0.3608 - val_accuracy: 0.9037\n",
      "Epoch 9/50\n",
      "118/118 [==============================] - 0s 3ms/step - loss: 0.3696 - accuracy: 0.8988 - val_loss: 0.3454 - val_accuracy: 0.9054\n",
      "Epoch 10/50\n",
      "118/118 [==============================] - 0s 3ms/step - loss: 0.3548 - accuracy: 0.9025 - val_loss: 0.3326 - val_accuracy: 0.9091\n",
      "Epoch 11/50\n",
      "118/118 [==============================] - 0s 3ms/step - loss: 0.3427 - accuracy: 0.9049 - val_loss: 0.3221 - val_accuracy: 0.9115\n",
      "Epoch 12/50\n",
      "118/118 [==============================] - 0s 3ms/step - loss: 0.3321 - accuracy: 0.9073 - val_loss: 0.3135 - val_accuracy: 0.9142\n",
      "Epoch 13/50\n",
      "118/118 [==============================] - 0s 3ms/step - loss: 0.3228 - accuracy: 0.9099 - val_loss: 0.3048 - val_accuracy: 0.9152\n",
      "Epoch 14/50\n",
      "118/118 [==============================] - 0s 3ms/step - loss: 0.3146 - accuracy: 0.9115 - val_loss: 0.2971 - val_accuracy: 0.9164\n",
      "Epoch 15/50\n",
      "118/118 [==============================] - 0s 3ms/step - loss: 0.3072 - accuracy: 0.9133 - val_loss: 0.2912 - val_accuracy: 0.9194\n",
      "Epoch 16/50\n",
      "118/118 [==============================] - 0s 3ms/step - loss: 0.3004 - accuracy: 0.9154 - val_loss: 0.2856 - val_accuracy: 0.9205\n",
      "Epoch 17/50\n",
      "118/118 [==============================] - 0s 3ms/step - loss: 0.2942 - accuracy: 0.9172 - val_loss: 0.2802 - val_accuracy: 0.9205\n",
      "Epoch 18/50\n",
      "118/118 [==============================] - 0s 3ms/step - loss: 0.2884 - accuracy: 0.9187 - val_loss: 0.2754 - val_accuracy: 0.9232\n",
      "Epoch 19/50\n",
      "118/118 [==============================] - 0s 3ms/step - loss: 0.2831 - accuracy: 0.9198 - val_loss: 0.2697 - val_accuracy: 0.9241\n",
      "Epoch 20/50\n",
      "118/118 [==============================] - 0s 3ms/step - loss: 0.2779 - accuracy: 0.9212 - val_loss: 0.2650 - val_accuracy: 0.9252\n",
      "Epoch 21/50\n",
      "118/118 [==============================] - 0s 3ms/step - loss: 0.2731 - accuracy: 0.9225 - val_loss: 0.2616 - val_accuracy: 0.9254\n",
      "Epoch 22/50\n",
      "118/118 [==============================] - 0s 3ms/step - loss: 0.2687 - accuracy: 0.9238 - val_loss: 0.2573 - val_accuracy: 0.9273\n",
      "Epoch 23/50\n",
      "118/118 [==============================] - 0s 3ms/step - loss: 0.2645 - accuracy: 0.9245 - val_loss: 0.2538 - val_accuracy: 0.9283\n",
      "Epoch 24/50\n",
      "118/118 [==============================] - 0s 3ms/step - loss: 0.2604 - accuracy: 0.9254 - val_loss: 0.2517 - val_accuracy: 0.9300\n",
      "Epoch 25/50\n",
      "118/118 [==============================] - 0s 3ms/step - loss: 0.2564 - accuracy: 0.9269 - val_loss: 0.2465 - val_accuracy: 0.9303\n",
      "Epoch 26/50\n",
      "118/118 [==============================] - 0s 3ms/step - loss: 0.2527 - accuracy: 0.9281 - val_loss: 0.2435 - val_accuracy: 0.9317\n",
      "Epoch 27/50\n",
      "118/118 [==============================] - 0s 3ms/step - loss: 0.2492 - accuracy: 0.9291 - val_loss: 0.2404 - val_accuracy: 0.9324\n",
      "Epoch 28/50\n",
      "118/118 [==============================] - 0s 3ms/step - loss: 0.2457 - accuracy: 0.9304 - val_loss: 0.2374 - val_accuracy: 0.9343\n",
      "Epoch 29/50\n",
      "118/118 [==============================] - 0s 3ms/step - loss: 0.2424 - accuracy: 0.9311 - val_loss: 0.2349 - val_accuracy: 0.9347\n",
      "Epoch 30/50\n",
      "118/118 [==============================] - 0s 3ms/step - loss: 0.2392 - accuracy: 0.9321 - val_loss: 0.2317 - val_accuracy: 0.9354\n",
      "Epoch 31/50\n",
      "118/118 [==============================] - 0s 3ms/step - loss: 0.2361 - accuracy: 0.9327 - val_loss: 0.2303 - val_accuracy: 0.9364\n",
      "Epoch 32/50\n",
      "118/118 [==============================] - 0s 3ms/step - loss: 0.2332 - accuracy: 0.9338 - val_loss: 0.2266 - val_accuracy: 0.9369\n",
      "Epoch 33/50\n",
      "118/118 [==============================] - 0s 3ms/step - loss: 0.2303 - accuracy: 0.9346 - val_loss: 0.2240 - val_accuracy: 0.9372\n",
      "Epoch 34/50\n",
      "118/118 [==============================] - 0s 3ms/step - loss: 0.2274 - accuracy: 0.9353 - val_loss: 0.2221 - val_accuracy: 0.9374\n",
      "Epoch 35/50\n",
      "118/118 [==============================] - 0s 3ms/step - loss: 0.2247 - accuracy: 0.9362 - val_loss: 0.2199 - val_accuracy: 0.9383\n",
      "Epoch 36/50\n",
      "118/118 [==============================] - 0s 3ms/step - loss: 0.2221 - accuracy: 0.9369 - val_loss: 0.2170 - val_accuracy: 0.9402\n",
      "Epoch 37/50\n",
      "118/118 [==============================] - 0s 3ms/step - loss: 0.2195 - accuracy: 0.9376 - val_loss: 0.2144 - val_accuracy: 0.9392\n",
      "Epoch 38/50\n",
      "118/118 [==============================] - 0s 3ms/step - loss: 0.2170 - accuracy: 0.9385 - val_loss: 0.2127 - val_accuracy: 0.9417\n",
      "Epoch 39/50\n",
      "118/118 [==============================] - 0s 3ms/step - loss: 0.2145 - accuracy: 0.9392 - val_loss: 0.2104 - val_accuracy: 0.9418\n",
      "Epoch 40/50\n",
      "118/118 [==============================] - 0s 3ms/step - loss: 0.2121 - accuracy: 0.9397 - val_loss: 0.2082 - val_accuracy: 0.9429\n",
      "Epoch 41/50\n",
      "118/118 [==============================] - 0s 3ms/step - loss: 0.2098 - accuracy: 0.9402 - val_loss: 0.2060 - val_accuracy: 0.9437\n",
      "Epoch 42/50\n",
      "118/118 [==============================] - 0s 3ms/step - loss: 0.2075 - accuracy: 0.9416 - val_loss: 0.2036 - val_accuracy: 0.9423\n",
      "Epoch 43/50\n",
      "118/118 [==============================] - 0s 3ms/step - loss: 0.2053 - accuracy: 0.9419 - val_loss: 0.2020 - val_accuracy: 0.9437\n",
      "Epoch 44/50\n",
      "118/118 [==============================] - 0s 3ms/step - loss: 0.2030 - accuracy: 0.9426 - val_loss: 0.1998 - val_accuracy: 0.9434\n",
      "Epoch 45/50\n",
      "118/118 [==============================] - 0s 3ms/step - loss: 0.2010 - accuracy: 0.9432 - val_loss: 0.1983 - val_accuracy: 0.9449\n",
      "Epoch 46/50\n",
      "118/118 [==============================] - 0s 3ms/step - loss: 0.1990 - accuracy: 0.9441 - val_loss: 0.1958 - val_accuracy: 0.9448\n",
      "Epoch 47/50\n",
      "118/118 [==============================] - 0s 3ms/step - loss: 0.1969 - accuracy: 0.9442 - val_loss: 0.1940 - val_accuracy: 0.9459\n",
      "Epoch 48/50\n",
      "118/118 [==============================] - 0s 3ms/step - loss: 0.1949 - accuracy: 0.9449 - val_loss: 0.1922 - val_accuracy: 0.9462\n",
      "Epoch 49/50\n",
      "118/118 [==============================] - 0s 3ms/step - loss: 0.1930 - accuracy: 0.9455 - val_loss: 0.1909 - val_accuracy: 0.9468\n",
      "Epoch 50/50\n",
      "118/118 [==============================] - 0s 3ms/step - loss: 0.1910 - accuracy: 0.9462 - val_loss: 0.1894 - val_accuracy: 0.9476\n"
     ]
    }
   ],
   "source": [
    "# モデルのコンパイル\n",
    "model.compile(loss = 'categorical_crossentropy',\n",
    "              optimizer = 'sgd',\n",
    "              metrics=['accuracy'])\n",
    "\n",
    "# モデルの学習\n",
    "history1 = model.fit(\n",
    "    x_train, \n",
    "    y_train_ohe,\n",
    "    batch_size = batch_size, \n",
    "    epochs = nb_epoch,\n",
    "    verbose = 1, \n",
    "    validation_data = (x_test, y_test_ohe))"
   ]
  },
  {
   "cell_type": "code",
   "execution_count": 10,
   "id": "63af6b49",
   "metadata": {},
   "outputs": [],
   "source": [
    "# Sequentialモデルの定義\n",
    "model = Sequential()\n",
    "\n",
    "# 隠れ層1の定義\n",
    "model.add(Dense(H, activation='relu', kernel_initializer='he_normal', input_shape=(D,)))\n",
    "\n",
    "# 隠れ層2の定義\n",
    "model.add(Dense(H, activation='relu', kernel_initializer='he_normal'))\n",
    "\n",
    "# 出力層\n",
    "model.add(Dense(num_classes, activation='softmax', kernel_initializer='he_normal'))"
   ]
  },
  {
   "cell_type": "code",
   "execution_count": 11,
   "id": "f7b5b084",
   "metadata": {},
   "outputs": [
    {
     "name": "stdout",
     "output_type": "stream",
     "text": [
      "Epoch 1/50\n",
      "118/118 [==============================] - 1s 4ms/step - loss: 0.4452 - accuracy: 0.8757 - val_loss: 0.2521 - val_accuracy: 0.9246\n",
      "Epoch 2/50\n",
      "118/118 [==============================] - 0s 3ms/step - loss: 0.1946 - accuracy: 0.9438 - val_loss: 0.1857 - val_accuracy: 0.9440\n",
      "Epoch 3/50\n",
      "118/118 [==============================] - 0s 3ms/step - loss: 0.1413 - accuracy: 0.9584 - val_loss: 0.1454 - val_accuracy: 0.9555\n",
      "Epoch 4/50\n",
      "118/118 [==============================] - 0s 3ms/step - loss: 0.1090 - accuracy: 0.9685 - val_loss: 0.1176 - val_accuracy: 0.9647\n",
      "Epoch 5/50\n",
      "118/118 [==============================] - 0s 3ms/step - loss: 0.0875 - accuracy: 0.9741 - val_loss: 0.1136 - val_accuracy: 0.9636\n",
      "Epoch 6/50\n",
      "118/118 [==============================] - 0s 3ms/step - loss: 0.0726 - accuracy: 0.9787 - val_loss: 0.0905 - val_accuracy: 0.9718\n",
      "Epoch 7/50\n",
      "118/118 [==============================] - 0s 3ms/step - loss: 0.0610 - accuracy: 0.9819 - val_loss: 0.1059 - val_accuracy: 0.9641\n",
      "Epoch 8/50\n",
      "118/118 [==============================] - 0s 3ms/step - loss: 0.0522 - accuracy: 0.9844 - val_loss: 0.0899 - val_accuracy: 0.9726\n",
      "Epoch 9/50\n",
      "118/118 [==============================] - 0s 3ms/step - loss: 0.0440 - accuracy: 0.9863 - val_loss: 0.0872 - val_accuracy: 0.9733\n",
      "Epoch 10/50\n",
      "118/118 [==============================] - 0s 3ms/step - loss: 0.0381 - accuracy: 0.9881 - val_loss: 0.0782 - val_accuracy: 0.9747\n",
      "Epoch 11/50\n",
      "118/118 [==============================] - 0s 3ms/step - loss: 0.0324 - accuracy: 0.9910 - val_loss: 0.0991 - val_accuracy: 0.9681\n",
      "Epoch 12/50\n",
      "118/118 [==============================] - 0s 3ms/step - loss: 0.0280 - accuracy: 0.9920 - val_loss: 0.0861 - val_accuracy: 0.9734\n",
      "Epoch 13/50\n",
      "118/118 [==============================] - 0s 3ms/step - loss: 0.0245 - accuracy: 0.9930 - val_loss: 0.0840 - val_accuracy: 0.9739\n",
      "Epoch 14/50\n",
      "118/118 [==============================] - 0s 3ms/step - loss: 0.0204 - accuracy: 0.9940 - val_loss: 0.0905 - val_accuracy: 0.9730\n",
      "Epoch 15/50\n",
      "118/118 [==============================] - 0s 3ms/step - loss: 0.0184 - accuracy: 0.9951 - val_loss: 0.0890 - val_accuracy: 0.9735\n",
      "Epoch 16/50\n",
      "118/118 [==============================] - 0s 3ms/step - loss: 0.0153 - accuracy: 0.9960 - val_loss: 0.0865 - val_accuracy: 0.9757\n",
      "Epoch 17/50\n",
      "118/118 [==============================] - 0s 3ms/step - loss: 0.0140 - accuracy: 0.9960 - val_loss: 0.0743 - val_accuracy: 0.9780\n",
      "Epoch 18/50\n",
      "118/118 [==============================] - 0s 3ms/step - loss: 0.0119 - accuracy: 0.9969 - val_loss: 0.0770 - val_accuracy: 0.9771\n",
      "Epoch 19/50\n",
      "118/118 [==============================] - 0s 3ms/step - loss: 0.0103 - accuracy: 0.9977 - val_loss: 0.0771 - val_accuracy: 0.9792\n",
      "Epoch 20/50\n",
      "118/118 [==============================] - 0s 3ms/step - loss: 0.0088 - accuracy: 0.9978 - val_loss: 0.0827 - val_accuracy: 0.9779\n",
      "Epoch 21/50\n",
      "118/118 [==============================] - 0s 3ms/step - loss: 0.0074 - accuracy: 0.9981 - val_loss: 0.0783 - val_accuracy: 0.9791\n",
      "Epoch 22/50\n",
      "118/118 [==============================] - 0s 3ms/step - loss: 0.0067 - accuracy: 0.9983 - val_loss: 0.0828 - val_accuracy: 0.9779\n",
      "Epoch 23/50\n",
      "118/118 [==============================] - 0s 3ms/step - loss: 0.0057 - accuracy: 0.9985 - val_loss: 0.0854 - val_accuracy: 0.9802\n",
      "Epoch 24/50\n",
      "118/118 [==============================] - 0s 3ms/step - loss: 0.0052 - accuracy: 0.9986 - val_loss: 0.0886 - val_accuracy: 0.9795\n",
      "Epoch 25/50\n",
      "118/118 [==============================] - 0s 3ms/step - loss: 0.0039 - accuracy: 0.9991 - val_loss: 0.1011 - val_accuracy: 0.9767\n",
      "Epoch 26/50\n",
      "118/118 [==============================] - 0s 3ms/step - loss: 0.0041 - accuracy: 0.9990 - val_loss: 0.0915 - val_accuracy: 0.9794\n",
      "Epoch 27/50\n",
      "118/118 [==============================] - 0s 3ms/step - loss: 0.0044 - accuracy: 0.9988 - val_loss: 0.0887 - val_accuracy: 0.9811\n",
      "Epoch 28/50\n",
      "118/118 [==============================] - 0s 3ms/step - loss: 0.0035 - accuracy: 0.9991 - val_loss: 0.1090 - val_accuracy: 0.9763\n",
      "Epoch 29/50\n",
      "118/118 [==============================] - 0s 3ms/step - loss: 0.0031 - accuracy: 0.9993 - val_loss: 0.1091 - val_accuracy: 0.9787\n",
      "Epoch 30/50\n",
      "118/118 [==============================] - 0s 3ms/step - loss: 0.0024 - accuracy: 0.9994 - val_loss: 0.1002 - val_accuracy: 0.9782\n",
      "Epoch 31/50\n",
      "118/118 [==============================] - 0s 3ms/step - loss: 0.0025 - accuracy: 0.9993 - val_loss: 0.0975 - val_accuracy: 0.9791\n",
      "Epoch 32/50\n",
      "118/118 [==============================] - 0s 3ms/step - loss: 0.0025 - accuracy: 0.9993 - val_loss: 0.1006 - val_accuracy: 0.9795\n",
      "Epoch 33/50\n",
      "118/118 [==============================] - 0s 3ms/step - loss: 0.0020 - accuracy: 0.9995 - val_loss: 0.1266 - val_accuracy: 0.9745\n",
      "Epoch 34/50\n",
      "118/118 [==============================] - 0s 3ms/step - loss: 0.0016 - accuracy: 0.9996 - val_loss: 0.1069 - val_accuracy: 0.9800\n",
      "Epoch 35/50\n",
      "118/118 [==============================] - 0s 3ms/step - loss: 0.0015 - accuracy: 0.9998 - val_loss: 0.1028 - val_accuracy: 0.9800\n",
      "Epoch 36/50\n",
      "118/118 [==============================] - 0s 3ms/step - loss: 0.0014 - accuracy: 0.9997 - val_loss: 0.1029 - val_accuracy: 0.9804\n",
      "Epoch 37/50\n",
      "118/118 [==============================] - 0s 3ms/step - loss: 0.0011 - accuracy: 0.9998 - val_loss: 0.1135 - val_accuracy: 0.9791\n",
      "Epoch 38/50\n",
      "118/118 [==============================] - 0s 3ms/step - loss: 0.0018 - accuracy: 0.9993 - val_loss: 0.1155 - val_accuracy: 0.9795\n",
      "Epoch 39/50\n",
      "118/118 [==============================] - 0s 3ms/step - loss: 8.5116e-04 - accuracy: 0.9998 - val_loss: 0.1144 - val_accuracy: 0.9798\n",
      "Epoch 40/50\n",
      "118/118 [==============================] - 0s 3ms/step - loss: 0.0015 - accuracy: 0.9995 - val_loss: 0.1194 - val_accuracy: 0.9780\n",
      "Epoch 41/50\n",
      "118/118 [==============================] - 0s 3ms/step - loss: 7.0427e-04 - accuracy: 0.9998 - val_loss: 0.1311 - val_accuracy: 0.9769\n",
      "Epoch 42/50\n",
      "118/118 [==============================] - 0s 3ms/step - loss: 0.0014 - accuracy: 0.9996 - val_loss: 0.1113 - val_accuracy: 0.9801\n",
      "Epoch 43/50\n",
      "118/118 [==============================] - 0s 3ms/step - loss: 7.3836e-04 - accuracy: 0.9998 - val_loss: 0.1395 - val_accuracy: 0.9785\n",
      "Epoch 44/50\n",
      "118/118 [==============================] - 0s 3ms/step - loss: 0.0016 - accuracy: 0.9996 - val_loss: 0.1153 - val_accuracy: 0.9799\n",
      "Epoch 45/50\n",
      "118/118 [==============================] - 0s 3ms/step - loss: 9.9366e-04 - accuracy: 0.9998 - val_loss: 0.1201 - val_accuracy: 0.9798\n",
      "Epoch 46/50\n",
      "118/118 [==============================] - 0s 3ms/step - loss: 0.0014 - accuracy: 0.9996 - val_loss: 0.1205 - val_accuracy: 0.9793\n",
      "Epoch 47/50\n",
      "118/118 [==============================] - 0s 3ms/step - loss: 0.0010 - accuracy: 0.9996 - val_loss: 0.1176 - val_accuracy: 0.9810\n",
      "Epoch 48/50\n",
      "118/118 [==============================] - 0s 3ms/step - loss: 4.4064e-04 - accuracy: 0.9999 - val_loss: 0.1395 - val_accuracy: 0.9762\n",
      "Epoch 49/50\n",
      "118/118 [==============================] - 0s 3ms/step - loss: 8.0253e-04 - accuracy: 0.9998 - val_loss: 0.1257 - val_accuracy: 0.9795\n",
      "Epoch 50/50\n",
      "118/118 [==============================] - 0s 3ms/step - loss: 5.3355e-04 - accuracy: 0.9999 - val_loss: 0.1279 - val_accuracy: 0.9807\n"
     ]
    }
   ],
   "source": [
    "# モデルのコンパイル\n",
    "model.compile(loss = 'categorical_crossentropy',\n",
    "              optimizer = 'rmsprop',\n",
    "              metrics=['accuracy'])\n",
    "\n",
    "# モデルの学習\n",
    "history2 = model.fit(\n",
    "    x_train, \n",
    "    y_train_ohe,\n",
    "    batch_size = batch_size, \n",
    "    epochs = nb_epoch,\n",
    "    verbose = 1, \n",
    "    validation_data = (x_test, y_test_ohe))"
   ]
  },
  {
   "cell_type": "code",
   "execution_count": 12,
   "id": "b882bd65",
   "metadata": {},
   "outputs": [],
   "source": [
    "# Sequentialモデルの定義\n",
    "model = Sequential()\n",
    "\n",
    "# 隠れ層1の定義\n",
    "model.add(Dense(H, activation='relu', kernel_initializer='he_normal', input_shape=(D,)))\n",
    "\n",
    "# 隠れ層2の定義\n",
    "model.add(Dense(H, activation='relu', kernel_initializer='he_normal'))\n",
    "\n",
    "# 出力層\n",
    "model.add(Dense(num_classes, activation='softmax', kernel_initializer='he_normal'))"
   ]
  },
  {
   "cell_type": "code",
   "execution_count": 13,
   "id": "4062b3a2",
   "metadata": {},
   "outputs": [
    {
     "ename": "AttributeError",
     "evalue": "module 'keras.optimizers' has no attribute 'SGD'",
     "output_type": "error",
     "traceback": [
      "\u001b[0;31m---------------------------------------------------------------------------\u001b[0m",
      "\u001b[0;31mAttributeError\u001b[0m                            Traceback (most recent call last)",
      "\u001b[0;32m/var/folders/83/5p_5c8c97tz9m464jrrqlzyh0000gn/T/ipykernel_24794/4219468754.py\u001b[0m in \u001b[0;36m<module>\u001b[0;34m\u001b[0m\n\u001b[1;32m      1\u001b[0m \u001b[0;31m# モデルのコンパイル\u001b[0m\u001b[0;34m\u001b[0m\u001b[0;34m\u001b[0m\u001b[0;34m\u001b[0m\u001b[0m\n\u001b[1;32m      2\u001b[0m \u001b[0;32mfrom\u001b[0m \u001b[0mkeras\u001b[0m \u001b[0;32mimport\u001b[0m \u001b[0moptimizers\u001b[0m\u001b[0;34m\u001b[0m\u001b[0;34m\u001b[0m\u001b[0m\n\u001b[0;32m----> 3\u001b[0;31m \u001b[0msgd\u001b[0m \u001b[0;34m=\u001b[0m \u001b[0moptimizers\u001b[0m\u001b[0;34m.\u001b[0m\u001b[0mSGD\u001b[0m\u001b[0;34m(\u001b[0m\u001b[0mmomentum\u001b[0m \u001b[0;34m=\u001b[0m \u001b[0;36m0.9\u001b[0m\u001b[0;34m)\u001b[0m\u001b[0;34m\u001b[0m\u001b[0;34m\u001b[0m\u001b[0m\n\u001b[0m\u001b[1;32m      4\u001b[0m model.compile(loss = 'categorical_crossentropy',\n\u001b[1;32m      5\u001b[0m               \u001b[0moptimizer\u001b[0m \u001b[0;34m=\u001b[0m \u001b[0msgd\u001b[0m\u001b[0;34m,\u001b[0m\u001b[0;34m\u001b[0m\u001b[0;34m\u001b[0m\u001b[0m\n",
      "\u001b[0;31mAttributeError\u001b[0m: module 'keras.optimizers' has no attribute 'SGD'"
     ]
    }
   ],
   "source": [
    "# モデルのコンパイル\n",
    "from keras import optimizers\n",
    "sgd = optimizers.SGD(momentum = 0.9)\n",
    "model.compile(loss = 'categorical_crossentropy',\n",
    "              optimizer = sgd,\n",
    "              metrics=['accuracy'])\n",
    "\n",
    "# モデルの学習\n",
    "history3 = model.fit(\n",
    "    x_train, \n",
    "    y_train_ohe,\n",
    "    batch_size = batch_size, \n",
    "    epochs = nb_epoch,\n",
    "    verbose = 1, \n",
    "    validation_data = (x_test, y_test_ohe))"
   ]
  },
  {
   "cell_type": "code",
   "execution_count": 14,
   "id": "44fcd697",
   "metadata": {},
   "outputs": [
    {
     "ename": "NameError",
     "evalue": "name 'history3' is not defined",
     "output_type": "error",
     "traceback": [
      "\u001b[0;31m---------------------------------------------------------------------------\u001b[0m",
      "\u001b[0;31mNameError\u001b[0m                                 Traceback (most recent call last)",
      "\u001b[0;32m/var/folders/83/5p_5c8c97tz9m464jrrqlzyh0000gn/T/ipykernel_24794/1030160580.py\u001b[0m in \u001b[0;36m<module>\u001b[0;34m\u001b[0m\n\u001b[1;32m      5\u001b[0m \u001b[0mplt\u001b[0m\u001b[0;34m.\u001b[0m\u001b[0mplot\u001b[0m\u001b[0;34m(\u001b[0m\u001b[0mhistory1\u001b[0m\u001b[0;34m.\u001b[0m\u001b[0mhistory\u001b[0m\u001b[0;34m[\u001b[0m\u001b[0;34m'val_loss'\u001b[0m\u001b[0;34m]\u001b[0m\u001b[0;34m,\u001b[0m\u001b[0mlabel\u001b[0m\u001b[0;34m=\u001b[0m\u001b[0;34m'SGD'\u001b[0m\u001b[0;34m,\u001b[0m \u001b[0mlw\u001b[0m\u001b[0;34m=\u001b[0m\u001b[0;36m3\u001b[0m\u001b[0;34m,\u001b[0m \u001b[0mc\u001b[0m\u001b[0;34m=\u001b[0m\u001b[0;34m'k'\u001b[0m\u001b[0;34m)\u001b[0m\u001b[0;34m\u001b[0m\u001b[0;34m\u001b[0m\u001b[0m\n\u001b[1;32m      6\u001b[0m \u001b[0mplt\u001b[0m\u001b[0;34m.\u001b[0m\u001b[0mplot\u001b[0m\u001b[0;34m(\u001b[0m\u001b[0mhistory2\u001b[0m\u001b[0;34m.\u001b[0m\u001b[0mhistory\u001b[0m\u001b[0;34m[\u001b[0m\u001b[0;34m'val_loss'\u001b[0m\u001b[0;34m]\u001b[0m\u001b[0;34m,\u001b[0m\u001b[0mlabel\u001b[0m\u001b[0;34m=\u001b[0m\u001b[0;34m'rmsprop'\u001b[0m\u001b[0;34m,\u001b[0m \u001b[0mlw\u001b[0m\u001b[0;34m=\u001b[0m\u001b[0;36m3\u001b[0m\u001b[0;34m,\u001b[0m \u001b[0mc\u001b[0m\u001b[0;34m=\u001b[0m\u001b[0;34m'b'\u001b[0m\u001b[0;34m)\u001b[0m\u001b[0;34m\u001b[0m\u001b[0;34m\u001b[0m\u001b[0m\n\u001b[0;32m----> 7\u001b[0;31m \u001b[0mplt\u001b[0m\u001b[0;34m.\u001b[0m\u001b[0mplot\u001b[0m\u001b[0;34m(\u001b[0m\u001b[0mhistory3\u001b[0m\u001b[0;34m.\u001b[0m\u001b[0mhistory\u001b[0m\u001b[0;34m[\u001b[0m\u001b[0;34m'val_loss'\u001b[0m\u001b[0;34m]\u001b[0m\u001b[0;34m,\u001b[0m\u001b[0mlabel\u001b[0m\u001b[0;34m=\u001b[0m\u001b[0;34m'momentum'\u001b[0m\u001b[0;34m,\u001b[0m \u001b[0mlw\u001b[0m\u001b[0;34m=\u001b[0m\u001b[0;36m3\u001b[0m\u001b[0;34m,\u001b[0m \u001b[0mc\u001b[0m\u001b[0;34m=\u001b[0m\u001b[0;34m'k'\u001b[0m\u001b[0;34m,\u001b[0m \u001b[0mlinestyle\u001b[0m\u001b[0;34m=\u001b[0m\u001b[0;34m'dashed'\u001b[0m\u001b[0;34m)\u001b[0m\u001b[0;34m\u001b[0m\u001b[0;34m\u001b[0m\u001b[0m\n\u001b[0m\u001b[1;32m      8\u001b[0m \u001b[0mplt\u001b[0m\u001b[0;34m.\u001b[0m\u001b[0mylim\u001b[0m\u001b[0;34m(\u001b[0m\u001b[0;36m0\u001b[0m\u001b[0;34m,\u001b[0m\u001b[0;36m2\u001b[0m\u001b[0;34m)\u001b[0m\u001b[0;34m\u001b[0m\u001b[0;34m\u001b[0m\u001b[0m\n\u001b[1;32m      9\u001b[0m \u001b[0mplt\u001b[0m\u001b[0;34m.\u001b[0m\u001b[0mxticks\u001b[0m\u001b[0;34m(\u001b[0m\u001b[0msize\u001b[0m\u001b[0;34m=\u001b[0m\u001b[0;36m14\u001b[0m\u001b[0;34m)\u001b[0m\u001b[0;34m\u001b[0m\u001b[0;34m\u001b[0m\u001b[0m\n",
      "\u001b[0;31mNameError\u001b[0m: name 'history3' is not defined"
     ]
    },
    {
     "data": {
      "image/png": "[encoded data removed]",
      "text/plain": [
       "<Figure size 576x432 with 1 Axes>"
      ]
     },
     "metadata": {
      "needs_background": "light"
     },
     "output_type": "display_data"
    }
   ],
   "source": [
    "#import matplotlib.pyplot as plt\n",
    "\n",
    "# 学習曲線の表示 (損失関数値)\n",
    "plt.figure(figsize=(8,6))\n",
    "plt.plot(history1.history['val_loss'],label='SGD', lw=3, c='k')\n",
    "plt.plot(history2.history['val_loss'],label='rmsprop', lw=3, c='b')\n",
    "plt.plot(history3.history['val_loss'],label='momentum', lw=3, c='k', linestyle='dashed')\n",
    "plt.ylim(0,2)\n",
    "plt.xticks(size=14)\n",
    "plt.yticks(size=14)\n",
    "plt.grid(lw=2)\n",
    "plt.legend(fontsize=14)\n",
    "plt.show()"
   ]
  },
  {
   "cell_type": "code",
   "execution_count": 15,
   "id": "b6ae7fd0",
   "metadata": {},
   "outputs": [
    {
     "ename": "NameError",
     "evalue": "name 'history3' is not defined",
     "output_type": "error",
     "traceback": [
      "\u001b[0;31m---------------------------------------------------------------------------\u001b[0m",
      "\u001b[0;31mNameError\u001b[0m                                 Traceback (most recent call last)",
      "\u001b[0;32m/var/folders/83/5p_5c8c97tz9m464jrrqlzyh0000gn/T/ipykernel_24794/3377113518.py\u001b[0m in \u001b[0;36m<module>\u001b[0;34m\u001b[0m\n\u001b[1;32m      5\u001b[0m \u001b[0mplt\u001b[0m\u001b[0;34m.\u001b[0m\u001b[0mplot\u001b[0m\u001b[0;34m(\u001b[0m\u001b[0mhistory1\u001b[0m\u001b[0;34m.\u001b[0m\u001b[0mhistory\u001b[0m\u001b[0;34m[\u001b[0m\u001b[0;34m'val_accuracy'\u001b[0m\u001b[0;34m]\u001b[0m\u001b[0;34m,\u001b[0m\u001b[0mlabel\u001b[0m\u001b[0;34m=\u001b[0m\u001b[0;34m'SGD'\u001b[0m\u001b[0;34m,\u001b[0m \u001b[0mlw\u001b[0m\u001b[0;34m=\u001b[0m\u001b[0;36m3\u001b[0m\u001b[0;34m,\u001b[0m \u001b[0mc\u001b[0m\u001b[0;34m=\u001b[0m\u001b[0;34m'k'\u001b[0m\u001b[0;34m)\u001b[0m\u001b[0;34m\u001b[0m\u001b[0;34m\u001b[0m\u001b[0m\n\u001b[1;32m      6\u001b[0m \u001b[0mplt\u001b[0m\u001b[0;34m.\u001b[0m\u001b[0mplot\u001b[0m\u001b[0;34m(\u001b[0m\u001b[0mhistory2\u001b[0m\u001b[0;34m.\u001b[0m\u001b[0mhistory\u001b[0m\u001b[0;34m[\u001b[0m\u001b[0;34m'val_accuracy'\u001b[0m\u001b[0;34m]\u001b[0m\u001b[0;34m,\u001b[0m\u001b[0mlabel\u001b[0m\u001b[0;34m=\u001b[0m\u001b[0;34m'rmsprop'\u001b[0m\u001b[0;34m,\u001b[0m \u001b[0mlw\u001b[0m\u001b[0;34m=\u001b[0m\u001b[0;36m3\u001b[0m\u001b[0;34m,\u001b[0m \u001b[0mc\u001b[0m\u001b[0;34m=\u001b[0m\u001b[0;34m'b'\u001b[0m\u001b[0;34m)\u001b[0m\u001b[0;34m\u001b[0m\u001b[0;34m\u001b[0m\u001b[0m\n\u001b[0;32m----> 7\u001b[0;31m \u001b[0mplt\u001b[0m\u001b[0;34m.\u001b[0m\u001b[0mplot\u001b[0m\u001b[0;34m(\u001b[0m\u001b[0mhistory3\u001b[0m\u001b[0;34m.\u001b[0m\u001b[0mhistory\u001b[0m\u001b[0;34m[\u001b[0m\u001b[0;34m'val_accuracy'\u001b[0m\u001b[0;34m]\u001b[0m\u001b[0;34m,\u001b[0m\u001b[0mlabel\u001b[0m\u001b[0;34m=\u001b[0m\u001b[0;34m'momentum'\u001b[0m\u001b[0;34m,\u001b[0m \u001b[0mlw\u001b[0m\u001b[0;34m=\u001b[0m\u001b[0;36m3\u001b[0m\u001b[0;34m,\u001b[0m \u001b[0mc\u001b[0m\u001b[0;34m=\u001b[0m\u001b[0;34m'k'\u001b[0m\u001b[0;34m,\u001b[0m \u001b[0mlinestyle\u001b[0m\u001b[0;34m=\u001b[0m\u001b[0;34m'dashed'\u001b[0m\u001b[0;34m)\u001b[0m\u001b[0;34m\u001b[0m\u001b[0;34m\u001b[0m\u001b[0m\n\u001b[0m\u001b[1;32m      8\u001b[0m \u001b[0mplt\u001b[0m\u001b[0;34m.\u001b[0m\u001b[0mylim\u001b[0m\u001b[0;34m(\u001b[0m\u001b[0;36m0.8\u001b[0m\u001b[0;34m,\u001b[0m\u001b[0;36m1\u001b[0m\u001b[0;34m)\u001b[0m\u001b[0;34m\u001b[0m\u001b[0;34m\u001b[0m\u001b[0m\n\u001b[1;32m      9\u001b[0m \u001b[0mplt\u001b[0m\u001b[0;34m.\u001b[0m\u001b[0mxticks\u001b[0m\u001b[0;34m(\u001b[0m\u001b[0msize\u001b[0m\u001b[0;34m=\u001b[0m\u001b[0;36m14\u001b[0m\u001b[0;34m)\u001b[0m\u001b[0;34m\u001b[0m\u001b[0;34m\u001b[0m\u001b[0m\n",
      "\u001b[0;31mNameError\u001b[0m: name 'history3' is not defined"
     ]
    },
    {
     "data": {
      "image/png": "[encoded data removed]",
      "text/plain": [
       "<Figure size 576x432 with 1 Axes>"
      ]
     },
     "metadata": {
      "needs_background": "light"
     },
     "output_type": "display_data"
    }
   ],
   "source": [
    "import matplotlib.pyplot as plt\n",
    "\n",
    "# 学習曲線の表示 (精度)\n",
    "plt.figure(figsize=(8,6))\n",
    "plt.plot(history1.history['val_accuracy'],label='SGD', lw=3, c='k')\n",
    "plt.plot(history2.history['val_accuracy'],label='rmsprop', lw=3, c='b')\n",
    "plt.plot(history3.history['val_accuracy'],label='momentum', lw=3, c='k', linestyle='dashed')\n",
    "plt.ylim(0.8,1)\n",
    "plt.xticks(size=14)\n",
    "plt.yticks(size=14)\n",
    "plt.grid(lw=2)\n",
    "plt.legend(fontsize=14)\n",
    "plt.show()"
   ]
  },
  {
   "cell_type": "code",
   "execution_count": 16,
   "id": "4a4bdb39",
   "metadata": {},
   "outputs": [],
   "source": [
    "# 正解データのデータ数\n",
    "div = 8\n",
    "\n",
    "# 近似多項式の次元\n",
    "dim = 8\n",
    "\n",
    "# y = -x*4 + x**3 -3x**2 + 8x -7\n",
    "p = [-1, 1, -3, 8, -7]\n",
    "\n",
    "# xの定義域 [-2, 1]\n",
    "xMin = -2\n",
    "xMax = 1"
   ]
  },
  {
   "cell_type": "code",
   "execution_count": 17,
   "id": "bddf3479",
   "metadata": {},
   "outputs": [],
   "source": [
    "# x : xMin と xManの間をdiv個に分割したベクトル\n",
    "x = np.linspace(xMin, xMax, num=div)\n",
    "\n",
    "# xx : xを10倍細かい間隔で分割したベクトル\n",
    "xx = np.linspace(xMin, xMax, num=div*10)\n",
    "\n",
    "# y, yy: x, xxそれぞれのベクトルに対して多項式の値を計算したベクトル\n",
    "y = np.polyval(p, x)\n",
    "yy = np.polyval(p, xx)\n",
    "\n",
    "# z: yに正規分布のノイズを加える。これを正解データとする\n",
    "z = y + 5 * np.random.randn(div)"
   ]
  },
  {
   "cell_type": "code",
   "execution_count": 18,
   "id": "35959bec",
   "metadata": {},
   "outputs": [],
   "source": [
    "# ベクトル表示用関数\n",
    "def print_fix(x):\n",
    "    [print('{:.3f}'.format(n)) for n in x]\n",
    "    \n",
    "# モデルを引数として、多項式の係数を表示する関数    \n",
    "def print_fix_model(m):\n",
    "    w = m.coef_.tolist()\n",
    "    w[0] = m.intercept_\n",
    "    print_fix(w)    "
   ]
  },
  {
   "cell_type": "code",
   "execution_count": 19,
   "id": "9f952378",
   "metadata": {},
   "outputs": [],
   "source": [
    "# 多項式行列を作成し、モデルの入力変数とする\n",
    "\n",
    "# x**nのベクトル計算用関数\n",
    "def f(x) :\n",
    "    return [x**i for i in range(dim)]\n",
    "\n",
    "# X : xベクトルから多項式二次元配列を作ったもの\n",
    "X = [f(x0) for x0 in x]\n",
    "\n",
    "# XX : xxベクトル多項式二次元配列を作ったもの\n",
    "XX = [f(x0) for x0 in xx]"
   ]
  },
  {
   "cell_type": "code",
   "execution_count": 20,
   "id": "d771008e",
   "metadata": {},
   "outputs": [],
   "source": [
    "# 線形モデルライブラリのロード\n",
    "from sklearn.linear_model import LinearRegression\n",
    "\n",
    "# モデルの初期化、学習\n",
    "model = LinearRegression().fit(X, z)\n",
    "\n",
    "# 予測値の取得\n",
    "yy_pred = model.predict(XX)"
   ]
  },
  {
   "cell_type": "code",
   "execution_count": 21,
   "id": "2c349150",
   "metadata": {},
   "outputs": [],
   "source": [
    "# Ridgeモデルラブラリのロード\n",
    "from sklearn.linear_model import Ridge\n",
    "\n",
    "# モデルの生成、学習\n",
    "#model2 = Ridge(alpha=5).fit(X, z)\n",
    "model2 = Ridge(alpha=0.5).fit(X, z)"
   ]
  },
  {
   "cell_type": "code",
   "execution_count": 22,
   "id": "55decbe5",
   "metadata": {},
   "outputs": [],
   "source": [
    "# 予測値の取得\n",
    "yy_pred2 = model2.predict(XX)"
   ]
  },
  {
   "cell_type": "code",
   "execution_count": 23,
   "id": "eb1d9a9a",
   "metadata": {},
   "outputs": [
    {
     "data": {
      "image/png": "[encoded data removed]",
      "text/plain": [
       "<Figure size 576x432 with 1 Axes>"
      ]
     },
     "metadata": {
      "needs_background": "light"
     },
     "output_type": "display_data"
    }
   ],
   "source": [
    "# グラフ表示\n",
    "plt.figure(figsize=(8,6))\n",
    "plt.plot(xx, yy, label='polynomial', lw=1, c='k')\n",
    "plt.scatter(x, z, label='observed', s=50, c='k')\n",
    "plt.plot(xx, yy_pred, label='linear regression', lw=3, c='k')\n",
    "plt.plot(xx, yy_pred2, label='L2 regularizer', lw=3, c='b')\n",
    "plt.xlabel('X')\n",
    "plt.ylabel('Y')\n",
    "plt.xticks(size=14)\n",
    "plt.yticks(size=14)\n",
    "plt.grid(lw=2)\n",
    "plt.legend(fontsize=14)\n",
    "plt.show()"
   ]
  },
  {
   "cell_type": "code",
   "execution_count": null,
   "id": "484d67be",
   "metadata": {},
   "outputs": [],
   "source": []
  }
 ],
 "metadata": {
  "kernelspec": {
   "display_name": "Python 3 (ipykernel)",
   "language": "python",
   "name": "python3"
  },
  "language_info": {
   "codemirror_mode": {
    "name": "ipython",
    "version": 3
   },
   "file_extension": ".py",
   "mimetype": "text/x-python",
   "name": "python",
   "nbconvert_exporter": "python",
   "pygments_lexer": "ipython3",
   "version": "3.9.1"
  }
 },
 "nbformat": 4,
 "nbformat_minor": 5
}
