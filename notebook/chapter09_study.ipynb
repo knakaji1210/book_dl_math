{
 "cells": [
  {
   "cell_type": "code",
   "execution_count": 1,
   "id": "924c3a2f",
   "metadata": {},
   "outputs": [],
   "source": [
    "# 必要ライブラリの宣言\n",
    "%matplotlib inline\n",
    "import numpy as np\n",
    "import matplotlib.pyplot as plt"
   ]
  },
  {
   "cell_type": "code",
   "execution_count": 2,
   "id": "41ba8ac3",
   "metadata": {},
   "outputs": [],
   "source": [
    "# softmax関数 (9.7.3)\n",
    "def softmax(x):\n",
    "    x = x.T\n",
    "    x_max = x.max(axis=0)\n",
    "    x = x - x_max\n",
    "    w = np.exp(x)\n",
    "    return (w / w.sum(axis=0)).T"
   ]
  },
  {
   "cell_type": "code",
   "execution_count": 18,
   "id": "63be08c6",
   "metadata": {},
   "outputs": [
    {
     "name": "stdout",
     "output_type": "stream",
     "text": [
      "[[1.  6.3 4.7]\n",
      " [1.  7.  4.7]\n",
      " [1.  5.  1.6]\n",
      " [1.  6.4 5.6]\n",
      " [1.  6.3 5. ]]\n",
      "(5, 3)\n"
     ]
    }
   ],
   "source": [
    "x = np.array([[1.,6.3,4.7],[1.,7.,4.7],[1.,5.,1.6],[1.,6.4,5.6],[1.,6.3,5.]])\n",
    "print(x)\n",
    "print(x.shape)"
   ]
  },
  {
   "cell_type": "code",
   "execution_count": 19,
   "id": "aec7a1be",
   "metadata": {},
   "outputs": [
    {
     "name": "stdout",
     "output_type": "stream",
     "text": [
      "[[1.  1.  1.  1.  1. ]\n",
      " [6.3 7.  5.  6.4 6.3]\n",
      " [4.7 4.7 1.6 5.6 5. ]]\n"
     ]
    }
   ],
   "source": [
    "print(x.T)"
   ]
  },
  {
   "cell_type": "code",
   "execution_count": 20,
   "id": "bafc260d",
   "metadata": {},
   "outputs": [],
   "source": [
    "x_max = x.max(axis=0)"
   ]
  },
  {
   "cell_type": "code",
   "execution_count": 21,
   "id": "4dc7ef77",
   "metadata": {},
   "outputs": [
    {
     "name": "stdout",
     "output_type": "stream",
     "text": [
      "[1.  7.  5.6]\n"
     ]
    }
   ],
   "source": [
    "print(x_max)"
   ]
  },
  {
   "cell_type": "code",
   "execution_count": 22,
   "id": "81085aa3",
   "metadata": {},
   "outputs": [],
   "source": [
    "x = x - x_max"
   ]
  },
  {
   "cell_type": "code",
   "execution_count": 23,
   "id": "bee93df1",
   "metadata": {},
   "outputs": [
    {
     "name": "stdout",
     "output_type": "stream",
     "text": [
      "[[ 0.  -0.7 -0.9]\n",
      " [ 0.   0.  -0.9]\n",
      " [ 0.  -2.  -4. ]\n",
      " [ 0.  -0.6  0. ]\n",
      " [ 0.  -0.7 -0.6]]\n",
      "(5, 3)\n"
     ]
    }
   ],
   "source": [
    "print(x)\n",
    "print(x.shape)"
   ]
  },
  {
   "cell_type": "code",
   "execution_count": 24,
   "id": "f3a429ef",
   "metadata": {},
   "outputs": [],
   "source": [
    "w = np.exp(x)"
   ]
  },
  {
   "cell_type": "code",
   "execution_count": 25,
   "id": "6e0dce4a",
   "metadata": {},
   "outputs": [
    {
     "name": "stdout",
     "output_type": "stream",
     "text": [
      "[[1.         0.4965853  0.40656966]\n",
      " [1.         1.         0.40656966]\n",
      " [1.         0.13533528 0.01831564]\n",
      " [1.         0.54881164 1.        ]\n",
      " [1.         0.4965853  0.54881164]]\n",
      "(5, 3)\n"
     ]
    }
   ],
   "source": [
    "print(w)\n",
    "print(w.shape)"
   ]
  },
  {
   "cell_type": "code",
   "execution_count": 26,
   "id": "d7298ffa",
   "metadata": {},
   "outputs": [
    {
     "name": "stdout",
     "output_type": "stream",
     "text": [
      "[5.         2.67731753 2.38026659]\n"
     ]
    }
   ],
   "source": [
    "print(w.sum(axis=0))"
   ]
  },
  {
   "cell_type": "code",
   "execution_count": 28,
   "id": "292c33e1",
   "metadata": {},
   "outputs": [
    {
     "name": "stdout",
     "output_type": "stream",
     "text": [
      "[[0.2        0.18547867 0.17080846]\n",
      " [0.2        0.37350818 0.17080846]\n",
      " [0.2        0.05054884 0.00769478]\n",
      " [0.2        0.20498564 0.42012101]\n",
      " [0.2        0.18547867 0.2305673 ]]\n"
     ]
    }
   ],
   "source": [
    "print((w / w.sum(axis=0)))"
   ]
  },
  {
   "cell_type": "code",
   "execution_count": 27,
   "id": "b16c9616",
   "metadata": {},
   "outputs": [
    {
     "name": "stdout",
     "output_type": "stream",
     "text": [
      "[[0.2        0.2        0.2        0.2        0.2       ]\n",
      " [0.18547867 0.37350818 0.05054884 0.20498564 0.18547867]\n",
      " [0.17080846 0.17080846 0.00769478 0.42012101 0.2305673 ]]\n"
     ]
    }
   ],
   "source": [
    "print((w / w.sum(axis=0)).T)"
   ]
  },
  {
   "cell_type": "code",
   "execution_count": 59,
   "id": "3632d970",
   "metadata": {},
   "outputs": [],
   "source": [
    "#np.argmaxについて\n",
    "# https://deepage.net/features/numpy-argmax.html　を参考に"
   ]
  },
  {
   "cell_type": "code",
   "execution_count": 36,
   "id": "8779088f",
   "metadata": {},
   "outputs": [],
   "source": [
    "a = np.random.randint(10, size = 10)"
   ]
  },
  {
   "cell_type": "code",
   "execution_count": 37,
   "id": "6731a038",
   "metadata": {},
   "outputs": [
    {
     "name": "stdout",
     "output_type": "stream",
     "text": [
      "[3 8 5 6 4 7 3 0 9 9]\n",
      "(10,)\n"
     ]
    }
   ],
   "source": [
    "print(a)\n",
    "print(a.shape)"
   ]
  },
  {
   "cell_type": "code",
   "execution_count": 38,
   "id": "d9d681a4",
   "metadata": {},
   "outputs": [
    {
     "data": {
      "text/plain": [
       "8"
      ]
     },
     "execution_count": 38,
     "metadata": {},
     "output_type": "execute_result"
    }
   ],
   "source": [
    "np.argmax(a)"
   ]
  },
  {
   "cell_type": "code",
   "execution_count": 54,
   "id": "6c3710d2",
   "metadata": {},
   "outputs": [],
   "source": [
    "b = np.random.randint(10, size = (3,4))"
   ]
  },
  {
   "cell_type": "code",
   "execution_count": 55,
   "id": "16dff5c7",
   "metadata": {},
   "outputs": [
    {
     "name": "stdout",
     "output_type": "stream",
     "text": [
      "[[2 1 5 5]\n",
      " [3 7 2 7]\n",
      " [1 0 0 8]]\n",
      "(3, 4)\n"
     ]
    }
   ],
   "source": [
    "print(b)\n",
    "print(b.shape)"
   ]
  },
  {
   "cell_type": "code",
   "execution_count": 56,
   "id": "7c7bae55",
   "metadata": {},
   "outputs": [
    {
     "data": {
      "text/plain": [
       "11"
      ]
     },
     "execution_count": 56,
     "metadata": {},
     "output_type": "execute_result"
    }
   ],
   "source": [
    "np.argmax(b)"
   ]
  },
  {
   "cell_type": "code",
   "execution_count": 57,
   "id": "0f8c3453",
   "metadata": {},
   "outputs": [
    {
     "data": {
      "text/plain": [
       "array([1, 1, 0, 2])"
      ]
     },
     "execution_count": 57,
     "metadata": {},
     "output_type": "execute_result"
    }
   ],
   "source": [
    "np.argmax(b, axis=0)"
   ]
  },
  {
   "cell_type": "code",
   "execution_count": 58,
   "id": "6fa59b0d",
   "metadata": {},
   "outputs": [
    {
     "data": {
      "text/plain": [
       "array([2, 1, 3])"
      ]
     },
     "execution_count": 58,
     "metadata": {},
     "output_type": "execute_result"
    }
   ],
   "source": [
    "np.argmax(b, axis=1)"
   ]
  },
  {
   "cell_type": "code",
   "execution_count": null,
   "id": "1786fb51",
   "metadata": {},
   "outputs": [],
   "source": []
  }
 ],
 "metadata": {
  "kernelspec": {
   "display_name": "Python 3 (ipykernel)",
   "language": "python",
   "name": "python3"
  },
  "language_info": {
   "codemirror_mode": {
    "name": "ipython",
    "version": 3
   },
   "file_extension": ".py",
   "mimetype": "text/x-python",
   "name": "python",
   "nbconvert_exporter": "python",
   "pygments_lexer": "ipython3",
   "version": "3.9.1"
  }
 },
 "nbformat": 4,
 "nbformat_minor": 5
}
