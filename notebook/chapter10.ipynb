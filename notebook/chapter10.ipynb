{
 "cells": [
  {
   "cell_type": "code",
   "execution_count": 1,
   "id": "478dbacb",
   "metadata": {},
   "outputs": [],
   "source": [
    "# 必要ライブラリの宣言\n",
    "%matplotlib inline\n",
    "import numpy as np\n",
    "import matplotlib.pyplot as plt\n",
    "import warnings\n",
    "warnings.filterwarnings('ignore')"
   ]
  },
  {
   "cell_type": "code",
   "execution_count": 16,
   "id": "b7551a97",
   "metadata": {},
   "outputs": [],
   "source": [
    "# データ読み込み\n",
    "# 2020-06-17 従来の方式で読み込みできなくなったので、新しい方式に切り替えました。\n",
    "\n",
    "from sklearn.datasets import fetch_openml\n",
    "mnist = fetch_openml('mnist_784', version=1,)"
   ]
  },
  {
   "cell_type": "code",
   "execution_count": 3,
   "id": "f0d4d3b9",
   "metadata": {},
   "outputs": [],
   "source": [
    "# 新しい方式ではmnist.targetが文字列のため、コードを修正しています。\n",
    "x_org, y_org = mnist.data, mnist.target.astype(np.int)\n",
    "\n",
    "# 2021-06-27 sklearn 0.24.x対応\n",
    "import pandas as pd\n",
    "if type(x_org) == pd.core.frame.DataFrame:\n",
    "    x_org = x_org.values\n",
    "    y_org = y_org.values"
   ]
  },
  {
   "cell_type": "code",
   "execution_count": 4,
   "id": "68871fae",
   "metadata": {},
   "outputs": [
    {
     "name": "stdout",
     "output_type": "stream",
     "text": [
      "ダミー変数追加後 (70000, 785)\n"
     ]
    }
   ],
   "source": [
    "# 入力データの加工\n",
    "\n",
    "# step1 データ正規化 値の範囲を[0, 1]とする\n",
    "x_norm = x_org / 255.0\n",
    "\n",
    "# 先頭にダミー変数(1)を追加\n",
    "x_all = np.insert(x_norm, 0, 1, axis=1)\n",
    "\n",
    "print('ダミー変数追加後', x_all.shape)"
   ]
  },
  {
   "cell_type": "code",
   "execution_count": 30,
   "id": "cfd03e68",
   "metadata": {},
   "outputs": [
    {
     "name": "stdout",
     "output_type": "stream",
     "text": [
      "[[  0.   0.   0.   0.   0.   0.   0.   0.   0.   0.   0.   0.   0.   0.\n",
      "    0.   0.   0.   0.   0.   0.   0.   0.   0.   0.   0.   0.   0.   0.\n",
      "    0.   0.   0.   0.   0.   0.   0.   0.   0.   0.   0.   0.   0.   0.\n",
      "    0.   0.   0.   0.   0.   0.   0.   0.   0.   0.   0.   0.   0.   0.\n",
      "    0.   0.   0.   0.   0.   0.   0.   0.   0.   0.   0.   0.   0.   0.\n",
      "    0.   0.   0.   0.   0.   0.   0.   0.   0.   0.   0.   0.   0.   0.\n",
      "    0.   0.   0.   0.   0.   0.   0.   0.   0.   0.   0.   0.   0.   0.\n",
      "    0.   0.   0.   0.   0.   0.   0.   0.   0.   0.   0.   0.   0.   0.\n",
      "    0.   0.   0.   0.   0.   0.   0.   0.   0.   0.   0.   0.   0.   0.\n",
      "    0.   0.   0.   0.   0.   0.   0.   0.   0.   0.   0.   0.   0.   0.\n",
      "    0.   0.   0.   0.   0.   0.   0.   0.   0.   0.   0.   0.   3.  18.\n",
      "   18.  18. 126. 136. 175.  26. 166. 255. 247. 127.   0.   0.   0.   0.\n",
      "    0.   0.   0.   0.   0.   0.   0.   0.  30.  36.  94. 154. 170. 253.\n",
      "  253. 253. 253. 253. 225. 172. 253. 242. 195.  64.   0.   0.   0.   0.\n",
      "    0.   0.   0.   0.   0.   0.   0.  49. 238. 253. 253. 253. 253. 253.\n",
      "  253. 253. 253. 251.  93.  82.  82.  56.  39.   0.   0.   0.   0.   0.\n",
      "    0.   0.   0.   0.   0.   0.   0.  18. 219. 253. 253. 253. 253. 253.\n",
      "  198. 182. 247. 241.   0.   0.   0.   0.   0.   0.   0.   0.   0.   0.\n",
      "    0.   0.   0.   0.   0.   0.   0.   0.  80. 156. 107. 253. 253. 205.\n",
      "   11.   0.  43. 154.   0.   0.   0.   0.   0.   0.   0.   0.   0.   0.\n",
      "    0.   0.   0.   0.   0.   0.   0.   0.   0.  14.   1. 154. 253.  90.\n",
      "    0.   0.   0.   0.   0.   0.   0.   0.   0.   0.   0.   0.   0.   0.\n",
      "    0.   0.   0.   0.   0.   0.   0.   0.   0.   0.   0. 139. 253. 190.\n",
      "    2.   0.   0.   0.   0.   0.   0.   0.   0.   0.   0.   0.   0.   0.\n",
      "    0.   0.   0.   0.   0.   0.   0.   0.   0.   0.   0.  11. 190. 253.\n",
      "   70.   0.   0.   0.   0.   0.   0.   0.   0.   0.   0.   0.   0.   0.\n",
      "    0.   0.   0.   0.   0.   0.   0.   0.   0.   0.   0.   0.  35. 241.\n",
      "  225. 160. 108.   1.   0.   0.   0.   0.   0.   0.   0.   0.   0.   0.\n",
      "    0.   0.   0.   0.   0.   0.   0.   0.   0.   0.   0.   0.   0.  81.\n",
      "  240. 253. 253. 119.  25.   0.   0.   0.   0.   0.   0.   0.   0.   0.\n",
      "    0.   0.   0.   0.   0.   0.   0.   0.   0.   0.   0.   0.   0.   0.\n",
      "   45. 186. 253. 253. 150.  27.   0.   0.   0.   0.   0.   0.   0.   0.\n",
      "    0.   0.   0.   0.   0.   0.   0.   0.   0.   0.   0.   0.   0.   0.\n",
      "    0.  16.  93. 252. 253. 187.   0.   0.   0.   0.   0.   0.   0.   0.\n",
      "    0.   0.   0.   0.   0.   0.   0.   0.   0.   0.   0.   0.   0.   0.\n",
      "    0.   0.   0. 249. 253. 249.  64.   0.   0.   0.   0.   0.   0.   0.\n",
      "    0.   0.   0.   0.   0.   0.   0.   0.   0.   0.   0.   0.   0.   0.\n",
      "   46. 130. 183. 253. 253. 207.   2.   0.   0.   0.   0.   0.   0.   0.\n",
      "    0.   0.   0.   0.   0.   0.   0.   0.   0.   0.   0.   0.  39. 148.\n",
      "  229. 253. 253. 253. 250. 182.   0.   0.   0.   0.   0.   0.   0.   0.\n",
      "    0.   0.   0.   0.   0.   0.   0.   0.   0.   0.  24. 114. 221. 253.\n",
      "  253. 253. 253. 201.  78.   0.   0.   0.   0.   0.   0.   0.   0.   0.\n",
      "    0.   0.   0.   0.   0.   0.   0.   0.  23.  66. 213. 253. 253. 253.\n",
      "  253. 198.  81.   2.   0.   0.   0.   0.   0.   0.   0.   0.   0.   0.\n",
      "    0.   0.   0.   0.   0.   0.  18. 171. 219. 253. 253. 253. 253. 195.\n",
      "   80.   9.   0.   0.   0.   0.   0.   0.   0.   0.   0.   0.   0.   0.\n",
      "    0.   0.   0.   0.  55. 172. 226. 253. 253. 253. 253. 244. 133.  11.\n",
      "    0.   0.   0.   0.   0.   0.   0.   0.   0.   0.   0.   0.   0.   0.\n",
      "    0.   0.   0.   0. 136. 253. 253. 253. 212. 135. 132.  16.   0.   0.\n",
      "    0.   0.   0.   0.   0.   0.   0.   0.   0.   0.   0.   0.   0.   0.\n",
      "    0.   0.   0.   0.   0.   0.   0.   0.   0.   0.   0.   0.   0.   0.\n",
      "    0.   0.   0.   0.   0.   0.   0.   0.   0.   0.   0.   0.   0.   0.\n",
      "    0.   0.   0.   0.   0.   0.   0.   0.   0.   0.   0.   0.   0.   0.\n",
      "    0.   0.   0.   0.   0.   0.   0.   0.   0.   0.   0.   0.   0.   0.\n",
      "    0.   0.   0.   0.   0.   0.   0.   0.   0.   0.   0.   0.   0.   0.\n",
      "    0.   0.   0.   0.   0.   0.   0.   0.   0.   0.   0.   0.   0.   0.]]\n",
      "(70000, 784)\n"
     ]
    }
   ],
   "source": [
    "print(x_org[:1,:])\n",
    "print(x_org.shape)"
   ]
  },
  {
   "cell_type": "code",
   "execution_count": 31,
   "id": "70f61045",
   "metadata": {},
   "outputs": [
    {
     "name": "stdout",
     "output_type": "stream",
     "text": [
      "[[0.         0.         0.         0.         0.         0.\n",
      "  0.         0.         0.         0.         0.         0.\n",
      "  0.         0.         0.         0.         0.         0.\n",
      "  0.         0.         0.         0.         0.         0.\n",
      "  0.         0.         0.         0.         0.         0.\n",
      "  0.         0.         0.         0.         0.         0.\n",
      "  0.         0.         0.         0.         0.         0.\n",
      "  0.         0.         0.         0.         0.         0.\n",
      "  0.         0.         0.         0.         0.         0.\n",
      "  0.         0.         0.         0.         0.         0.\n",
      "  0.         0.         0.         0.         0.         0.\n",
      "  0.         0.         0.         0.         0.         0.\n",
      "  0.         0.         0.         0.         0.         0.\n",
      "  0.         0.         0.         0.         0.         0.\n",
      "  0.         0.         0.         0.         0.         0.\n",
      "  0.         0.         0.         0.         0.         0.\n",
      "  0.         0.         0.         0.         0.         0.\n",
      "  0.         0.         0.         0.         0.         0.\n",
      "  0.         0.         0.         0.         0.         0.\n",
      "  0.         0.         0.         0.         0.         0.\n",
      "  0.         0.         0.         0.         0.         0.\n",
      "  0.         0.         0.         0.         0.         0.\n",
      "  0.         0.         0.         0.         0.         0.\n",
      "  0.         0.         0.         0.         0.         0.\n",
      "  0.         0.         0.         0.         0.         0.\n",
      "  0.         0.         0.01176471 0.07058824 0.07058824 0.07058824\n",
      "  0.49411765 0.53333333 0.68627451 0.10196078 0.65098039 1.\n",
      "  0.96862745 0.49803922 0.         0.         0.         0.\n",
      "  0.         0.         0.         0.         0.         0.\n",
      "  0.         0.         0.11764706 0.14117647 0.36862745 0.60392157\n",
      "  0.66666667 0.99215686 0.99215686 0.99215686 0.99215686 0.99215686\n",
      "  0.88235294 0.6745098  0.99215686 0.94901961 0.76470588 0.25098039\n",
      "  0.         0.         0.         0.         0.         0.\n",
      "  0.         0.         0.         0.         0.         0.19215686\n",
      "  0.93333333 0.99215686 0.99215686 0.99215686 0.99215686 0.99215686\n",
      "  0.99215686 0.99215686 0.99215686 0.98431373 0.36470588 0.32156863\n",
      "  0.32156863 0.21960784 0.15294118 0.         0.         0.\n",
      "  0.         0.         0.         0.         0.         0.\n",
      "  0.         0.         0.         0.07058824 0.85882353 0.99215686\n",
      "  0.99215686 0.99215686 0.99215686 0.99215686 0.77647059 0.71372549\n",
      "  0.96862745 0.94509804 0.         0.         0.         0.\n",
      "  0.         0.         0.         0.         0.         0.\n",
      "  0.         0.         0.         0.         0.         0.\n",
      "  0.         0.         0.31372549 0.61176471 0.41960784 0.99215686\n",
      "  0.99215686 0.80392157 0.04313725 0.         0.16862745 0.60392157\n",
      "  0.         0.         0.         0.         0.         0.\n",
      "  0.         0.         0.         0.         0.         0.\n",
      "  0.         0.         0.         0.         0.         0.\n",
      "  0.         0.05490196 0.00392157 0.60392157 0.99215686 0.35294118\n",
      "  0.         0.         0.         0.         0.         0.\n",
      "  0.         0.         0.         0.         0.         0.\n",
      "  0.         0.         0.         0.         0.         0.\n",
      "  0.         0.         0.         0.         0.         0.\n",
      "  0.         0.54509804 0.99215686 0.74509804 0.00784314 0.\n",
      "  0.         0.         0.         0.         0.         0.\n",
      "  0.         0.         0.         0.         0.         0.\n",
      "  0.         0.         0.         0.         0.         0.\n",
      "  0.         0.         0.         0.         0.         0.04313725\n",
      "  0.74509804 0.99215686 0.2745098  0.         0.         0.\n",
      "  0.         0.         0.         0.         0.         0.\n",
      "  0.         0.         0.         0.         0.         0.\n",
      "  0.         0.         0.         0.         0.         0.\n",
      "  0.         0.         0.         0.         0.1372549  0.94509804\n",
      "  0.88235294 0.62745098 0.42352941 0.00392157 0.         0.\n",
      "  0.         0.         0.         0.         0.         0.\n",
      "  0.         0.         0.         0.         0.         0.\n",
      "  0.         0.         0.         0.         0.         0.\n",
      "  0.         0.         0.         0.31764706 0.94117647 0.99215686\n",
      "  0.99215686 0.46666667 0.09803922 0.         0.         0.\n",
      "  0.         0.         0.         0.         0.         0.\n",
      "  0.         0.         0.         0.         0.         0.\n",
      "  0.         0.         0.         0.         0.         0.\n",
      "  0.         0.         0.17647059 0.72941176 0.99215686 0.99215686\n",
      "  0.58823529 0.10588235 0.         0.         0.         0.\n",
      "  0.         0.         0.         0.         0.         0.\n",
      "  0.         0.         0.         0.         0.         0.\n",
      "  0.         0.         0.         0.         0.         0.\n",
      "  0.         0.0627451  0.36470588 0.98823529 0.99215686 0.73333333\n",
      "  0.         0.         0.         0.         0.         0.\n",
      "  0.         0.         0.         0.         0.         0.\n",
      "  0.         0.         0.         0.         0.         0.\n",
      "  0.         0.         0.         0.         0.         0.\n",
      "  0.         0.97647059 0.99215686 0.97647059 0.25098039 0.\n",
      "  0.         0.         0.         0.         0.         0.\n",
      "  0.         0.         0.         0.         0.         0.\n",
      "  0.         0.         0.         0.         0.         0.\n",
      "  0.         0.         0.18039216 0.50980392 0.71764706 0.99215686\n",
      "  0.99215686 0.81176471 0.00784314 0.         0.         0.\n",
      "  0.         0.         0.         0.         0.         0.\n",
      "  0.         0.         0.         0.         0.         0.\n",
      "  0.         0.         0.         0.         0.15294118 0.58039216\n",
      "  0.89803922 0.99215686 0.99215686 0.99215686 0.98039216 0.71372549\n",
      "  0.         0.         0.         0.         0.         0.\n",
      "  0.         0.         0.         0.         0.         0.\n",
      "  0.         0.         0.         0.         0.         0.\n",
      "  0.09411765 0.44705882 0.86666667 0.99215686 0.99215686 0.99215686\n",
      "  0.99215686 0.78823529 0.30588235 0.         0.         0.\n",
      "  0.         0.         0.         0.         0.         0.\n",
      "  0.         0.         0.         0.         0.         0.\n",
      "  0.         0.         0.09019608 0.25882353 0.83529412 0.99215686\n",
      "  0.99215686 0.99215686 0.99215686 0.77647059 0.31764706 0.00784314\n",
      "  0.         0.         0.         0.         0.         0.\n",
      "  0.         0.         0.         0.         0.         0.\n",
      "  0.         0.         0.         0.         0.07058824 0.67058824\n",
      "  0.85882353 0.99215686 0.99215686 0.99215686 0.99215686 0.76470588\n",
      "  0.31372549 0.03529412 0.         0.         0.         0.\n",
      "  0.         0.         0.         0.         0.         0.\n",
      "  0.         0.         0.         0.         0.         0.\n",
      "  0.21568627 0.6745098  0.88627451 0.99215686 0.99215686 0.99215686\n",
      "  0.99215686 0.95686275 0.52156863 0.04313725 0.         0.\n",
      "  0.         0.         0.         0.         0.         0.\n",
      "  0.         0.         0.         0.         0.         0.\n",
      "  0.         0.         0.         0.         0.53333333 0.99215686\n",
      "  0.99215686 0.99215686 0.83137255 0.52941176 0.51764706 0.0627451\n",
      "  0.         0.         0.         0.         0.         0.\n",
      "  0.         0.         0.         0.         0.         0.\n",
      "  0.         0.         0.         0.         0.         0.\n",
      "  0.         0.         0.         0.         0.         0.\n",
      "  0.         0.         0.         0.         0.         0.\n",
      "  0.         0.         0.         0.         0.         0.\n",
      "  0.         0.         0.         0.         0.         0.\n",
      "  0.         0.         0.         0.         0.         0.\n",
      "  0.         0.         0.         0.         0.         0.\n",
      "  0.         0.         0.         0.         0.         0.\n",
      "  0.         0.         0.         0.         0.         0.\n",
      "  0.         0.         0.         0.         0.         0.\n",
      "  0.         0.         0.         0.         0.         0.\n",
      "  0.         0.         0.         0.         0.         0.\n",
      "  0.         0.         0.         0.         0.         0.\n",
      "  0.         0.         0.         0.         0.         0.\n",
      "  0.         0.         0.         0.        ]]\n",
      "(70000, 784)\n"
     ]
    }
   ],
   "source": [
    "print(x_norm[:1,:])\n",
    "print(x_norm.shape)"
   ]
  },
  {
   "cell_type": "code",
   "execution_count": 11,
   "id": "87120f92",
   "metadata": {
    "scrolled": true
   },
   "outputs": [
    {
     "name": "stdout",
     "output_type": "stream",
     "text": [
      "[[1. 0. 0. ... 0. 0. 0.]\n",
      " [1. 0. 0. ... 0. 0. 0.]\n",
      " [1. 0. 0. ... 0. 0. 0.]\n",
      " ...\n",
      " [1. 0. 0. ... 0. 0. 0.]\n",
      " [1. 0. 0. ... 0. 0. 0.]\n",
      " [1. 0. 0. ... 0. 0. 0.]]\n",
      "(70000, 785)\n"
     ]
    }
   ],
   "source": [
    "print(x_all[:10,:])\n",
    "print(x_all.shape)"
   ]
  },
  {
   "cell_type": "code",
   "execution_count": 13,
   "id": "011e6440",
   "metadata": {},
   "outputs": [
    {
     "name": "stdout",
     "output_type": "stream",
     "text": [
      "One Hot Vector化後 (70000, 10)\n"
     ]
    }
   ],
   "source": [
    "# step 2 yをOne-hot-Vectorに\n",
    "\n",
    "from sklearn.preprocessing import OneHotEncoder\n",
    "ohe = OneHotEncoder(sparse=False)\n",
    "y_all_one = ohe.fit_transform(np.c_[y_org])\n",
    "print('One Hot Vector化後', y_all_one.shape)"
   ]
  },
  {
   "cell_type": "code",
   "execution_count": 14,
   "id": "c528a5c5",
   "metadata": {},
   "outputs": [
    {
     "name": "stdout",
     "output_type": "stream",
     "text": [
      "[[0. 0. 0. ... 0. 0. 0.]\n",
      " [1. 0. 0. ... 0. 0. 0.]\n",
      " [0. 0. 0. ... 0. 0. 0.]\n",
      " ...\n",
      " [0. 0. 0. ... 0. 0. 0.]\n",
      " [0. 0. 0. ... 0. 0. 0.]\n",
      " [0. 0. 0. ... 0. 0. 0.]]\n"
     ]
    }
   ],
   "source": [
    "print(y_all_one)"
   ]
  },
  {
   "cell_type": "code",
   "execution_count": 15,
   "id": "2034b24c",
   "metadata": {},
   "outputs": [
    {
     "name": "stdout",
     "output_type": "stream",
     "text": [
      "(60000, 785) (10000, 785) (60000,) (10000,) (60000, 10) (10000, 10)\n"
     ]
    }
   ],
   "source": [
    "# step 3 学習データ、検証データに分割\n",
    "\n",
    "from sklearn.model_selection import train_test_split\n",
    "x_train, x_test, y_train, y_test, y_train_one, y_test_one = train_test_split(\n",
    "    x_all, y_org, y_all_one, train_size=60000, test_size=10000, shuffle=False)\n",
    "print(x_train.shape, x_test.shape, y_train.shape, y_test.shape, \n",
    "    y_train_one.shape, y_test_one.shape)"
   ]
  },
  {
   "cell_type": "code",
   "execution_count": 25,
   "id": "ef2b3c87",
   "metadata": {},
   "outputs": [
    {
     "data": {
      "image/png": "[encoded data removed]",
      "text/plain": [
       "<Figure size 720x216 with 20 Axes>"
      ]
     },
     "metadata": {
      "needs_background": "light"
     },
     "output_type": "display_data"
    }
   ],
   "source": [
    "# データ内容の確認\n",
    "# 2020-06-17 \n",
    "# 読み込み元データが変更になったため、図10-2、図10-9と画像が変わっています。\n",
    "\n",
    "N = 20\n",
    "np.random.seed(12)\n",
    "indexes = np.random.choice(y_test.shape[0], N, replace=False)\n",
    "x_selected = x_test[indexes,1:]\n",
    "y_selected = y_test[indexes]\n",
    "plt.figure(figsize=(10, 3))\n",
    "for i in range(N):\n",
    "    ax = plt.subplot(2, int(N/2), i + 1)\n",
    "    plt.imshow(x_selected[i].reshape(28, 28),cmap='gray_r')\n",
    "    ax.set_title('%d' %y_selected[i], fontsize=16)\n",
    "    ax.get_xaxis().set_visible(False)\n",
    "    ax.get_yaxis().set_visible(False)\n",
    "plt.show()"
   ]
  },
  {
   "cell_type": "code",
   "execution_count": 26,
   "id": "cd55c403",
   "metadata": {},
   "outputs": [],
   "source": [
    "# シグモイド関数\n",
    "def sigmoid(x):\n",
    "    return 1/(1+ np.exp(-x))"
   ]
  },
  {
   "cell_type": "code",
   "execution_count": 27,
   "id": "5fa4c4df",
   "metadata": {},
   "outputs": [],
   "source": [
    "# softmax関数\n",
    "def softmax(x):\n",
    "    x = x.T\n",
    "    x_max = x.max(axis=0)\n",
    "    x = x - x_max\n",
    "    w = np.exp(x)\n",
    "    return (w / w.sum(axis=0)).T"
   ]
  },
  {
   "cell_type": "code",
   "execution_count": 28,
   "id": "0da8231d",
   "metadata": {},
   "outputs": [],
   "source": [
    "# 交差エントロピー関数\n",
    "def cross_entropy(yt, yp):\n",
    "    return -np.mean(np.sum(yt * np.log(yp), axis=1))"
   ]
  },
  {
   "cell_type": "code",
   "execution_count": 29,
   "id": "502ca379",
   "metadata": {},
   "outputs": [],
   "source": [
    "# 評価処理 (戻り値は精度と損失関数)\n",
    "from sklearn.metrics import accuracy_score\n",
    "\n",
    "def evaluate(x_test, y_test, y_test_one, V, W):\n",
    "    b1_test = np.insert(sigmoid(x_test @ V), 0, 1, axis=1)\n",
    "    yp_test_one = softmax(b1_test @ W)\n",
    "    yp_test = np.argmax(yp_test_one, axis=1)\n",
    "    loss = cross_entropy(y_test_one, yp_test_one)\n",
    "    score = accuracy_score(y_test, yp_test)\n",
    "    return score, loss  "
   ]
  },
  {
   "cell_type": "code",
   "execution_count": 32,
   "id": "a0d1ad03",
   "metadata": {},
   "outputs": [],
   "source": [
    "# ミニバッチ用index取得関数　ここはよくわからない\n",
    "import numpy as np\n",
    "\n",
    "class Indexes():\n",
    "    \n",
    "    # コンストラクタ\n",
    "    def __init__(self, total, size):\n",
    "        # 配列全体の大きさ\n",
    "        self.total   = total\n",
    "        # batchサイズ\n",
    "        self.size    = size\n",
    "        #　作業用indexes 初期値はNULLにしておく\n",
    "        self.indexes = np.zeros(0) \n",
    "\n",
    "    # index取得関数    \n",
    "    def next_index(self):\n",
    "        next_flag = False\n",
    "        \n",
    "    # bacthサイズより作業用Indexesが小さい場合はindexes再生成\n",
    "        if len(self.indexes) < self.size: \n",
    "            self.indexes = np.random.choice(self.total, \n",
    "                self.total, replace=False)\n",
    "            next_flag = True\n",
    "            \n",
    "        # 戻り用index取得と作業用indexes更新\n",
    "        index = self.indexes[:self.size]\n",
    "        self.indexes = self.indexes[self.size:]\n",
    "        return index, next_flag"
   ]
  },
  {
   "cell_type": "code",
   "execution_count": 33,
   "id": "4259f977",
   "metadata": {},
   "outputs": [
    {
     "name": "stdout",
     "output_type": "stream",
     "text": [
      "[11  3  9 17 12] True\n",
      "[ 2  7 18  0  8] False\n",
      "[ 1 16 10 14 15] False\n",
      "[19  4  5 13  6] False\n",
      "[12  5 18 15 10] True\n",
      "[17 19  1  2  9] False\n"
     ]
    }
   ],
   "source": [
    "# Indexesクラスのテスト　ここはよくわからない\n",
    "\n",
    "# クラス初期化\n",
    "# 20: 全体の配列の大きさ\n",
    "# 5: 一回に取得するindexの数\n",
    "indexes = Indexes(20, 5)\n",
    "\n",
    "for i in range(6):\n",
    "    # next_index関数呼び出し\n",
    "    # 戻り値1:  indexのnumpy配列\n",
    "    # 戻り値2: 作業用Indexの更新があったかどうか\n",
    "    arr, flag = indexes.next_index()\n",
    "    print(arr, flag)"
   ]
  },
  {
   "cell_type": "code",
   "execution_count": 50,
   "id": "d5378862",
   "metadata": {},
   "outputs": [
    {
     "name": "stdout",
     "output_type": "stream",
     "text": [
      "[[1. 1. 1. ... 1. 1. 1.]\n",
      " [1. 1. 1. ... 1. 1. 1.]\n",
      " [1. 1. 1. ... 1. 1. 1.]\n",
      " ...\n",
      " [1. 1. 1. ... 1. 1. 1.]\n",
      " [1. 1. 1. ... 1. 1. 1.]\n",
      " [1. 1. 1. ... 1. 1. 1.]]\n",
      "(785, 128)\n",
      "[[1. 1. 1. ... 1. 1. 1.]\n",
      " [1. 1. 1. ... 1. 1. 1.]\n",
      " [1. 1. 1. ... 1. 1. 1.]\n",
      " ...\n",
      " [1. 1. 1. ... 1. 1. 1.]\n",
      " [1. 1. 1. ... 1. 1. 1.]\n",
      " [1. 1. 1. ... 1. 1. 1.]]\n",
      "(129, 10)\n"
     ]
    }
   ],
   "source": [
    "# 変数初期宣言 初期バージョン\n",
    "\n",
    "# 隠れ層のノード数\n",
    "H = 128\n",
    "H1 = H + 1\n",
    "# M: 訓練用系列データ総数\n",
    "M  = x_train.shape[0]\n",
    "# D: 入力データ次元数\n",
    "D = x_train.shape[1]\n",
    "# N: 分類クラス数\n",
    "N = y_train_one.shape[1]\n",
    "# print(x_train.shape)\n",
    "# print(M)\n",
    "# print(D)\n",
    "\n",
    "# 繰り返し回数\n",
    "nb_epoch = 100\n",
    "# ミニバッチサイズ\n",
    "batch_size = 512\n",
    "B = batch_size\n",
    "# 学習率\n",
    "alpha = 0.01\n",
    "\n",
    "# 重み行列の初期設定(すべて1)\n",
    "V = np.ones((D, H))\n",
    "W = np.ones((H1, N))\n",
    "print(V)\n",
    "print(V.shape)\n",
    "print(W)\n",
    "print(W.shape)\n",
    "\n",
    "# 評価結果記録用 (損失関数値と精度)\n",
    "history1 = np.zeros((0, 3))\n",
    "\n",
    "# ミニバッチ用関数初期化\n",
    "indexes = Indexes(M, batch_size)\n",
    "\n",
    "# 繰り返し回数カウンタ初期化\n",
    "epoch = 0"
   ]
  },
  {
   "cell_type": "code",
   "execution_count": 51,
   "id": "d77fc63e",
   "metadata": {},
   "outputs": [
    {
     "name": "stdout",
     "output_type": "stream",
     "text": [
      "epoch = 0 loss = 2.302091 score = 0.113500\n",
      "epoch = 1 loss = 2.301904 score = 0.113500\n",
      "epoch = 2 loss = 2.301962 score = 0.113500\n",
      "epoch = 3 loss = 2.301339 score = 0.113500\n",
      "epoch = 4 loss = 2.301531 score = 0.113500\n",
      "epoch = 5 loss = 2.301375 score = 0.113500\n",
      "epoch = 6 loss = 2.301255 score = 0.113500\n",
      "epoch = 7 loss = 2.301917 score = 0.101000\n",
      "epoch = 8 loss = 2.302125 score = 0.113500\n",
      "epoch = 9 loss = 2.301618 score = 0.113500\n",
      "epoch = 10 loss = 2.301322 score = 0.113500\n",
      "epoch = 11 loss = 2.301696 score = 0.113500\n",
      "epoch = 12 loss = 2.301719 score = 0.113500\n",
      "epoch = 13 loss = 2.301950 score = 0.113500\n",
      "epoch = 14 loss = 2.301173 score = 0.113500\n",
      "epoch = 15 loss = 2.301651 score = 0.113500\n",
      "epoch = 16 loss = 2.301394 score = 0.113500\n",
      "epoch = 17 loss = 2.302057 score = 0.113500\n",
      "epoch = 18 loss = 2.301537 score = 0.113500\n",
      "epoch = 19 loss = 2.301989 score = 0.113500\n",
      "epoch = 20 loss = 2.301563 score = 0.113500\n",
      "epoch = 21 loss = 2.301196 score = 0.113500\n",
      "epoch = 22 loss = 2.301388 score = 0.113500\n",
      "epoch = 23 loss = 2.301269 score = 0.113500\n",
      "epoch = 24 loss = 2.301395 score = 0.113500\n",
      "epoch = 25 loss = 2.301084 score = 0.113500\n",
      "epoch = 26 loss = 2.301624 score = 0.113500\n",
      "epoch = 27 loss = 2.301631 score = 0.113500\n",
      "epoch = 28 loss = 2.301140 score = 0.113500\n",
      "epoch = 29 loss = 2.301780 score = 0.102800\n",
      "epoch = 30 loss = 2.302055 score = 0.113500\n",
      "epoch = 31 loss = 2.301145 score = 0.113500\n",
      "epoch = 32 loss = 2.301593 score = 0.113500\n",
      "epoch = 33 loss = 2.302011 score = 0.113500\n",
      "epoch = 34 loss = 2.301544 score = 0.113500\n",
      "epoch = 35 loss = 2.301282 score = 0.113500\n",
      "epoch = 36 loss = 2.301048 score = 0.113500\n",
      "epoch = 37 loss = 2.301625 score = 0.113500\n",
      "epoch = 38 loss = 2.301889 score = 0.113500\n",
      "epoch = 39 loss = 2.301299 score = 0.113500\n",
      "epoch = 40 loss = 2.301784 score = 0.113500\n",
      "epoch = 41 loss = 2.300976 score = 0.113500\n",
      "epoch = 42 loss = 2.301504 score = 0.113500\n",
      "epoch = 43 loss = 2.301638 score = 0.113500\n",
      "epoch = 44 loss = 2.301742 score = 0.113500\n",
      "epoch = 45 loss = 2.301406 score = 0.113500\n",
      "epoch = 46 loss = 2.301405 score = 0.113500\n",
      "epoch = 47 loss = 2.301616 score = 0.113500\n",
      "epoch = 48 loss = 2.301446 score = 0.113500\n",
      "epoch = 49 loss = 2.301908 score = 0.102800\n",
      "epoch = 50 loss = 2.301441 score = 0.113500\n",
      "epoch = 51 loss = 2.301470 score = 0.113500\n",
      "epoch = 52 loss = 2.301979 score = 0.113500\n",
      "epoch = 53 loss = 2.301407 score = 0.113500\n",
      "epoch = 54 loss = 2.301363 score = 0.113500\n",
      "epoch = 55 loss = 2.301967 score = 0.113500\n",
      "epoch = 56 loss = 2.301050 score = 0.113500\n",
      "epoch = 57 loss = 2.302096 score = 0.113500\n",
      "epoch = 58 loss = 2.301103 score = 0.113500\n",
      "epoch = 59 loss = 2.301732 score = 0.113500\n",
      "epoch = 60 loss = 2.301925 score = 0.113500\n",
      "epoch = 61 loss = 2.301119 score = 0.113500\n",
      "epoch = 62 loss = 2.301549 score = 0.113500\n",
      "epoch = 63 loss = 2.301323 score = 0.113500\n",
      "epoch = 64 loss = 2.301357 score = 0.113500\n",
      "epoch = 65 loss = 2.301204 score = 0.113500\n",
      "epoch = 66 loss = 2.301634 score = 0.113500\n",
      "epoch = 67 loss = 2.301520 score = 0.113500\n",
      "epoch = 68 loss = 2.301784 score = 0.113500\n",
      "epoch = 69 loss = 2.301841 score = 0.113500\n",
      "epoch = 70 loss = 2.301663 score = 0.113500\n",
      "epoch = 71 loss = 2.301405 score = 0.113500\n",
      "epoch = 72 loss = 2.301467 score = 0.101000\n",
      "epoch = 73 loss = 2.301352 score = 0.113500\n",
      "epoch = 74 loss = 2.301514 score = 0.113500\n",
      "epoch = 75 loss = 2.301367 score = 0.113500\n",
      "epoch = 76 loss = 2.301522 score = 0.113500\n",
      "epoch = 77 loss = 2.301992 score = 0.102800\n",
      "epoch = 78 loss = 2.301317 score = 0.113500\n",
      "epoch = 79 loss = 2.301457 score = 0.113500\n",
      "epoch = 80 loss = 2.301360 score = 0.113500\n",
      "epoch = 81 loss = 2.301485 score = 0.113500\n",
      "epoch = 82 loss = 2.301897 score = 0.113500\n",
      "epoch = 83 loss = 2.301772 score = 0.113500\n",
      "epoch = 84 loss = 2.301608 score = 0.113500\n",
      "epoch = 85 loss = 2.302198 score = 0.102800\n",
      "epoch = 86 loss = 2.301526 score = 0.113500\n",
      "epoch = 87 loss = 2.301454 score = 0.113500\n",
      "epoch = 88 loss = 2.302272 score = 0.102800\n",
      "epoch = 89 loss = 2.301817 score = 0.113500\n",
      "epoch = 90 loss = 2.301893 score = 0.113500\n",
      "epoch = 91 loss = 2.301581 score = 0.103200\n",
      "epoch = 92 loss = 2.301673 score = 0.113500\n",
      "epoch = 93 loss = 2.301412 score = 0.113500\n",
      "epoch = 94 loss = 2.301372 score = 0.113500\n",
      "epoch = 95 loss = 2.301570 score = 0.113500\n",
      "epoch = 96 loss = 2.301577 score = 0.102800\n",
      "epoch = 97 loss = 2.301309 score = 0.113500\n",
      "epoch = 98 loss = 2.301306 score = 0.113500\n",
      "epoch = 99 loss = 2.301460 score = 0.113500\n"
     ]
    }
   ],
   "source": [
    "# メイン処理\n",
    "while epoch < nb_epoch:\n",
    "\n",
    "    # 学習対象の選択(ミニバッチ学習法)\n",
    "    index, next_flag = indexes.next_index()\n",
    "    x, yt = x_train[index], y_train_one[index]\n",
    "    \n",
    "    # 予測値計算 (順伝播) \n",
    "    a = x @ V                         # (10.6.3)\n",
    "    b = sigmoid(a)                    # (10.6.4)\n",
    "    b1 = np.insert(b, 0, 1, axis=1)   # ダミー変数の追加 \n",
    "    u = b1 @ W                        # (10.6.5)   \n",
    "    yp = softmax(u)                   # (10.6.6)\n",
    "    \n",
    "    # 誤差計算 \n",
    "    yd = yp - yt                      # (10.6.7)\n",
    "    bd = b * (1-b) * (yd @ W[1:].T)   # (10.6.8)\n",
    "\n",
    "    # 勾配計算\n",
    "    W = W - alpha * (b1.T @ yd) / B   # (10.6.9)\n",
    "    V = V - alpha * (x.T @ bd) / B    # (10.6.10)\n",
    "    \n",
    "    # ログ記録用\n",
    "    if next_flag: # 1 epoch 終了後の処理\n",
    "        score, loss = evaluate(\n",
    "            x_test, y_test, y_test_one, V, W)\n",
    "        history1 = np.vstack((history1, \n",
    "            np.array([epoch, loss, score])))\n",
    "        print(\"epoch = %d loss = %f score = %f\" \n",
    "            % (epoch, loss, score))\n",
    "        epoch = epoch + 1"
   ]
  },
  {
   "cell_type": "code",
   "execution_count": 52,
   "id": "c7e95e72",
   "metadata": {},
   "outputs": [
    {
     "name": "stdout",
     "output_type": "stream",
     "text": [
      "初期状態: 損失関数:2.302091 精度:0.113500\n",
      "最終状態: 損失関数:2.301460 精度:0.113500\n"
     ]
    }
   ],
   "source": [
    "#損失関数値と精度の確認\n",
    "print('初期状態: 損失関数:%f 精度:%f' \n",
    "        % (history1[0,1], history1[0,2]))\n",
    "print('最終状態: 損失関数:%f 精度:%f' \n",
    "        % (history1[-1,1], history1[-1,2]))"
   ]
  },
  {
   "cell_type": "code",
   "execution_count": 53,
   "id": "0700d5b0",
   "metadata": {},
   "outputs": [
    {
     "data": {
      "image/png": "[encoded data removed]",
      "text/plain": [
       "<Figure size 432x288 with 1 Axes>"
      ]
     },
     "metadata": {
      "needs_background": "light"
     },
     "output_type": "display_data"
    }
   ],
   "source": [
    "# 学習曲線の表示 (損失関数値)\n",
    "plt.plot(history1[:,0], history1[:,1])\n",
    "plt.ylim(0,2.5)\n",
    "plt.xticks(size=14)\n",
    "plt.yticks(size=14)\n",
    "plt.grid(lw=2)\n",
    "plt.show()"
   ]
  },
  {
   "cell_type": "code",
   "execution_count": 54,
   "id": "9049efb8",
   "metadata": {},
   "outputs": [
    {
     "data": {
      "image/png": "[encoded data removed]",
      "text/plain": [
       "<Figure size 432x288 with 1 Axes>"
      ]
     },
     "metadata": {
      "needs_background": "light"
     },
     "output_type": "display_data"
    }
   ],
   "source": [
    "# 学習曲線の表示 (精度)\n",
    "plt.plot(history1[:,0], history1[:,2])\n",
    "plt.ylim(0,1)\n",
    "plt.xticks(size=14)\n",
    "plt.yticks(size=14)\n",
    "plt.grid(lw=2)\n",
    "plt.show()"
   ]
  },
  {
   "cell_type": "code",
   "execution_count": 55,
   "id": "bf68602c",
   "metadata": {},
   "outputs": [],
   "source": [
    "# 変数初期宣言 重み行列の初期化方式変更\n",
    "\n",
    "# 隠れ層のノード数\n",
    "H = 128\n",
    "H1 = H + 1\n",
    "\n",
    "# M: 訓練用系列データ総数\n",
    "M  = x_train.shape[0]\n",
    "\n",
    "# D: 入力データ次元数\n",
    "D = x_train.shape[1]\n",
    "\n",
    "# N: 分類クラス数\n",
    "N = y_train_one.shape[1]\n",
    "\n",
    "# 機械学習パラメータ\n",
    "alpha = 0.01\n",
    "nb_epoch = 100\n",
    "batch_size = 512\n",
    "B = batch_size\n",
    "\n",
    "# 重み行列の初期設定(すべて1)\n",
    "V = np.ones((D, H))\n",
    "W = np.ones((H1, N))\n",
    "\n",
    "# 評価結果記録用 (損失関数値と精度)\n",
    "history2 = np.zeros((0, 3))\n",
    "\n",
    "# ミニバッチ用関数初期化\n",
    "indexes = Indexes(M, batch_size)\n",
    "\n",
    "# 繰り返し回数カウンタ初期化\n",
    "epoch = 0"
   ]
  },
  {
   "cell_type": "code",
   "execution_count": 56,
   "id": "0da5efeb",
   "metadata": {},
   "outputs": [
    {
     "name": "stdout",
     "output_type": "stream",
     "text": [
      "[[-0.05479769  0.05034146  0.01428347 -0.0760309  -0.02920511]\n",
      " [ 0.02394289 -0.02846431 -0.05034025 -0.05552517 -0.03818151]]\n",
      "[[-0.04639015  0.12208132 -0.09068864 -0.09727418 -0.10204216]\n",
      " [ 0.03651466  0.07946677 -0.28606743  0.05307577 -0.09380706]]\n"
     ]
    }
   ],
   "source": [
    "# 重み行列の初期設定改訂版\n",
    "np.random.seed(123)\n",
    "V = np.random.randn(D, H) / np.sqrt(D / 2)\n",
    "W = np.random.randn(H1, N) / np.sqrt(H1 / 2)\n",
    "print(V[:2,:5])\n",
    "print(W[:2,:5])"
   ]
  },
  {
   "cell_type": "code",
   "execution_count": 57,
   "id": "79b1fb78",
   "metadata": {},
   "outputs": [
    {
     "name": "stdout",
     "output_type": "stream",
     "text": [
      "epoch = 0 loss = 2.495346 score = 0.113300\n",
      "epoch = 1 loss = 2.171611 score = 0.404600\n",
      "epoch = 2 loss = 2.028254 score = 0.595200\n",
      "epoch = 3 loss = 1.893397 score = 0.663100\n",
      "epoch = 4 loss = 1.765260 score = 0.708200\n",
      "epoch = 5 loss = 1.644877 score = 0.730500\n",
      "epoch = 6 loss = 1.532679 score = 0.752400\n",
      "epoch = 7 loss = 1.429361 score = 0.765900\n",
      "epoch = 8 loss = 1.335575 score = 0.784200\n",
      "epoch = 9 loss = 1.250557 score = 0.792100\n",
      "epoch = 10 loss = 1.174610 score = 0.801800\n",
      "epoch = 11 loss = 1.106852 score = 0.808100\n",
      "epoch = 12 loss = 1.046480 score = 0.816700\n",
      "epoch = 13 loss = 0.992841 score = 0.821500\n",
      "epoch = 14 loss = 0.944938 score = 0.829100\n",
      "epoch = 15 loss = 0.902200 score = 0.832200\n",
      "epoch = 16 loss = 0.864133 score = 0.835700\n",
      "epoch = 17 loss = 0.829652 score = 0.841200\n",
      "epoch = 18 loss = 0.798712 score = 0.843800\n",
      "epoch = 19 loss = 0.770707 score = 0.846500\n",
      "epoch = 20 loss = 0.745329 score = 0.849300\n",
      "epoch = 21 loss = 0.722188 score = 0.852000\n",
      "epoch = 22 loss = 0.701061 score = 0.855100\n",
      "epoch = 23 loss = 0.681710 score = 0.857100\n",
      "epoch = 24 loss = 0.663957 score = 0.861000\n",
      "epoch = 25 loss = 0.647459 score = 0.862900\n",
      "epoch = 26 loss = 0.632224 score = 0.863600\n",
      "epoch = 27 loss = 0.618157 score = 0.866500\n",
      "epoch = 28 loss = 0.605065 score = 0.868100\n",
      "epoch = 29 loss = 0.592790 score = 0.870000\n",
      "epoch = 30 loss = 0.581432 score = 0.870400\n",
      "epoch = 31 loss = 0.570575 score = 0.872400\n",
      "epoch = 32 loss = 0.560609 score = 0.873200\n",
      "epoch = 33 loss = 0.551120 score = 0.874100\n",
      "epoch = 34 loss = 0.542269 score = 0.875800\n",
      "epoch = 35 loss = 0.533808 score = 0.876300\n",
      "epoch = 36 loss = 0.525904 score = 0.877100\n",
      "epoch = 37 loss = 0.518419 score = 0.878000\n",
      "epoch = 38 loss = 0.511239 score = 0.879400\n",
      "epoch = 39 loss = 0.504610 score = 0.880100\n",
      "epoch = 40 loss = 0.498102 score = 0.880900\n",
      "epoch = 41 loss = 0.492015 score = 0.881100\n",
      "epoch = 42 loss = 0.486113 score = 0.882200\n",
      "epoch = 43 loss = 0.480669 score = 0.883100\n",
      "epoch = 44 loss = 0.475351 score = 0.884400\n",
      "epoch = 45 loss = 0.470303 score = 0.885000\n",
      "epoch = 46 loss = 0.465499 score = 0.885400\n",
      "epoch = 47 loss = 0.460846 score = 0.885800\n",
      "epoch = 48 loss = 0.456328 score = 0.886400\n",
      "epoch = 49 loss = 0.452063 score = 0.886800\n",
      "epoch = 50 loss = 0.447987 score = 0.887600\n",
      "epoch = 51 loss = 0.444028 score = 0.887900\n",
      "epoch = 52 loss = 0.440185 score = 0.888100\n",
      "epoch = 53 loss = 0.436595 score = 0.888900\n",
      "epoch = 54 loss = 0.433128 score = 0.889200\n",
      "epoch = 55 loss = 0.429641 score = 0.889300\n",
      "epoch = 56 loss = 0.426385 score = 0.889700\n",
      "epoch = 57 loss = 0.423248 score = 0.890500\n",
      "epoch = 58 loss = 0.420213 score = 0.891300\n",
      "epoch = 59 loss = 0.417263 score = 0.891400\n",
      "epoch = 60 loss = 0.414427 score = 0.891600\n",
      "epoch = 61 loss = 0.411698 score = 0.891900\n",
      "epoch = 62 loss = 0.409051 score = 0.892400\n",
      "epoch = 63 loss = 0.406455 score = 0.892600\n",
      "epoch = 64 loss = 0.403867 score = 0.892800\n",
      "epoch = 65 loss = 0.401590 score = 0.893500\n",
      "epoch = 66 loss = 0.399196 score = 0.893900\n",
      "epoch = 67 loss = 0.396995 score = 0.894100\n",
      "epoch = 68 loss = 0.394724 score = 0.894000\n",
      "epoch = 69 loss = 0.392538 score = 0.894800\n",
      "epoch = 70 loss = 0.390438 score = 0.895300\n",
      "epoch = 71 loss = 0.388397 score = 0.895400\n",
      "epoch = 72 loss = 0.386425 score = 0.896200\n",
      "epoch = 73 loss = 0.384561 score = 0.896100\n",
      "epoch = 74 loss = 0.382597 score = 0.896600\n",
      "epoch = 75 loss = 0.380800 score = 0.897200\n",
      "epoch = 76 loss = 0.378969 score = 0.897500\n",
      "epoch = 77 loss = 0.377273 score = 0.897500\n",
      "epoch = 78 loss = 0.375583 score = 0.897400\n",
      "epoch = 79 loss = 0.373862 score = 0.898400\n",
      "epoch = 80 loss = 0.372291 score = 0.898700\n",
      "epoch = 81 loss = 0.370742 score = 0.898400\n",
      "epoch = 82 loss = 0.369224 score = 0.899100\n",
      "epoch = 83 loss = 0.367700 score = 0.899000\n",
      "epoch = 84 loss = 0.366232 score = 0.899900\n",
      "epoch = 85 loss = 0.364857 score = 0.899700\n",
      "epoch = 86 loss = 0.363441 score = 0.900000\n",
      "epoch = 87 loss = 0.362029 score = 0.901500\n",
      "epoch = 88 loss = 0.360659 score = 0.900800\n",
      "epoch = 89 loss = 0.359399 score = 0.900900\n",
      "epoch = 90 loss = 0.358082 score = 0.901900\n",
      "epoch = 91 loss = 0.356849 score = 0.901800\n",
      "epoch = 92 loss = 0.355598 score = 0.902300\n",
      "epoch = 93 loss = 0.354373 score = 0.902800\n",
      "epoch = 94 loss = 0.353197 score = 0.902300\n",
      "epoch = 95 loss = 0.352011 score = 0.902400\n",
      "epoch = 96 loss = 0.350922 score = 0.902500\n",
      "epoch = 97 loss = 0.349925 score = 0.902500\n",
      "epoch = 98 loss = 0.348698 score = 0.903100\n",
      "epoch = 99 loss = 0.347606 score = 0.903700\n"
     ]
    }
   ],
   "source": [
    "# メイン処理\n",
    "while epoch < nb_epoch:\n",
    "    \n",
    "    # 学習対象の選択(ミニバッチ学習法)\n",
    "    index, next_flag = indexes.next_index()\n",
    "    x, yt = x_train[index], y_train_one[index]\n",
    "\n",
    "    # 予測値計算 (順伝播) \n",
    "    a = x @ V                         # (10.6.3)\n",
    "    b = sigmoid(a)                    # (10.6.4)\n",
    "    b1 = np.insert(b, 0, 1, axis=1)   # ダミー変数の追加 \n",
    "    u = b1 @ W                        # (10.6.5)   \n",
    "    yp = softmax(u)                   # (10.6.6)\n",
    "    \n",
    "    # 誤差計算 \n",
    "    yd = yp - yt                      # (10.6.7)\n",
    "    bd = b * (1-b) * (yd @ W[1:].T)   # (10.6.8)\n",
    "\n",
    "    # 勾配計算\n",
    "    W = W - alpha * (b1.T @ yd) / B   # (10.6.9)\n",
    "    V = V - alpha * (x.T @ bd) / B    # (10.6.10)\n",
    "\n",
    "    if next_flag: # 1epoch 終了後の処理\n",
    "        score, loss = evaluate(\n",
    "            x_test, y_test, y_test_one, V, W)\n",
    "        history2 = np.vstack((history2, \n",
    "            np.array([epoch, loss, score])))\n",
    "        print(\"epoch = %d loss = %f score = %f\" \n",
    "            % (epoch, loss, score))\n",
    "        epoch = epoch + 1"
   ]
  },
  {
   "cell_type": "code",
   "execution_count": 58,
   "id": "2607fdd9",
   "metadata": {},
   "outputs": [
    {
     "name": "stdout",
     "output_type": "stream",
     "text": [
      "初期状態: 損失関数:2.495346 精度:0.113300\n",
      "最終状態: 損失関数:0.347606 精度:0.903700\n"
     ]
    }
   ],
   "source": [
    "#損失関数値と精度の確認\n",
    "print('初期状態: 損失関数:%f 精度:%f' \n",
    "        % (history2[0,1], history2[0,2]))\n",
    "print('最終状態: 損失関数:%f 精度:%f' \n",
    "        % (history2[-1,1], history2[-1,2]))"
   ]
  },
  {
   "cell_type": "code",
   "execution_count": 59,
   "id": "583ac507",
   "metadata": {},
   "outputs": [
    {
     "data": {
      "image/png": "[encoded data removed]",
      "text/plain": [
       "<Figure size 432x288 with 1 Axes>"
      ]
     },
     "metadata": {
      "needs_background": "light"
     },
     "output_type": "display_data"
    }
   ],
   "source": [
    "# 学習曲線の表示 (損失関数値)\n",
    "plt.plot(history2[:,0], history2[:,1])\n",
    "plt.ylim(0,2.5)\n",
    "plt.xticks(size=14)\n",
    "plt.yticks(size=14)\n",
    "plt.grid(lw=2)\n",
    "plt.show()"
   ]
  },
  {
   "cell_type": "code",
   "execution_count": 60,
   "id": "d8f87f91",
   "metadata": {},
   "outputs": [
    {
     "data": {
      "image/png": "[encoded data removed]",
      "text/plain": [
       "<Figure size 432x288 with 1 Axes>"
      ]
     },
     "metadata": {
      "needs_background": "light"
     },
     "output_type": "display_data"
    }
   ],
   "source": [
    "# 学習曲線の表示 (精度)\n",
    "plt.plot(history2[:,0], history2[:,2])\n",
    "plt.ylim(0,1)\n",
    "plt.xticks(size=14)\n",
    "plt.yticks(size=14)\n",
    "plt.grid(lw=2)\n",
    "plt.show()"
   ]
  },
  {
   "cell_type": "code",
   "execution_count": 61,
   "id": "c91079af",
   "metadata": {},
   "outputs": [],
   "source": [
    "# ReLU関数\n",
    "def ReLU(x):\n",
    "    return np.maximum(0, x)"
   ]
  },
  {
   "cell_type": "code",
   "execution_count": 62,
   "id": "c5c85313",
   "metadata": {},
   "outputs": [],
   "source": [
    "# step関数\n",
    "def step(x):\n",
    "    return 1.0 * ( x > 0)"
   ]
  },
  {
   "cell_type": "code",
   "execution_count": 63,
   "id": "a3a4b005",
   "metadata": {},
   "outputs": [
    {
     "data": {
      "image/png": "[encoded data removed]",
      "text/plain": [
       "<Figure size 432x432 with 1 Axes>"
      ]
     },
     "metadata": {
      "needs_background": "light"
     },
     "output_type": "display_data"
    }
   ],
   "source": [
    "# ReLU関数とstep関数のグラフ表示\n",
    "\n",
    "xx =  np.linspace(-4, 4, 501)\n",
    "yy = ReLU(xx)\n",
    "plt.figure(figsize=(6,6))\n",
    "#plt.ylim(0.0, 1.0)\n",
    "plt.xlim(-4, 4)\n",
    "plt.ylim(-4, 4)\n",
    "plt.xlabel(r'$x$', fontsize=14)\n",
    "plt.ylabel(r'$y$', fontsize=14)\n",
    "plt.grid(lw=2)\n",
    "plt.plot(xx, ReLU(xx), c='b', label='ReLU', linestyle='-', lw=3)\n",
    "plt.plot(xx, step(xx), c='k', label='step', linestyle='-.', lw=3)\n",
    "plt.xticks(size=14)\n",
    "plt.yticks(size=14)\n",
    "plt.legend(fontsize=14)\n",
    "plt.show()"
   ]
  },
  {
   "cell_type": "code",
   "execution_count": 64,
   "id": "22014a07",
   "metadata": {},
   "outputs": [],
   "source": [
    "# 評価処理 (ReLU関数対応版)\n",
    "from sklearn.metrics import accuracy_score\n",
    "\n",
    "def evaluate2(x_test, y_test, y_test_one, V, W):\n",
    "    b1_test = np.insert(ReLU(x_test @ V), 0, 1, axis=1)\n",
    "    yp_test_one = softmax(b1_test @ W)\n",
    "    yp_test = np.argmax(yp_test_one, axis=1)\n",
    "    loss = cross_entropy(y_test_one, yp_test_one)\n",
    "    score = accuracy_score(y_test, yp_test)\n",
    "    return score, loss   "
   ]
  },
  {
   "cell_type": "code",
   "execution_count": 65,
   "id": "19faa68a",
   "metadata": {},
   "outputs": [],
   "source": [
    "# 変数初期宣言 重み行列の初期化方式変更\n",
    "# 隠れ層のノード数\n",
    "H = 128\n",
    "H1 = H + 1\n",
    "# M: 訓練用系列データ総数\n",
    "M  = x_train.shape[0]\n",
    "\n",
    "# D: 入力データ次元数\n",
    "D = x_train.shape[1]\n",
    "\n",
    "# N: 分類クラス数\n",
    "N = y_train_one.shape[1]\n",
    "\n",
    "# 機械学習パラメータ\n",
    "alpha = 0.01\n",
    "nb_epoch = 100\n",
    "batch_size = 512\n",
    "B = batch_size\n",
    "\n",
    "# 重み行列の初期設定\n",
    "np.random.seed(123)\n",
    "V = np.random.randn(D, H) / np.sqrt(D / 2)\n",
    "W = np.random.randn(H1, N) / np.sqrt(H1 / 2)\n",
    "\n",
    "# 評価結果記録用 (損失関数値と精度)\n",
    "history3 = np.zeros((0, 3))\n",
    "\n",
    "# ミニバッチ用関数初期化\n",
    "indexes = Indexes(M, batch_size)\n",
    "\n",
    "# 繰り返し回数カウンタ初期化\n",
    "epoch = 0"
   ]
  },
  {
   "cell_type": "code",
   "execution_count": 66,
   "id": "465ceb61",
   "metadata": {},
   "outputs": [
    {
     "name": "stdout",
     "output_type": "stream",
     "text": [
      "epoch = 0 loss = 2.436569 score = 0.054900\n",
      "epoch = 1 loss = 1.502820 score = 0.697100\n",
      "epoch = 2 loss = 1.016633 score = 0.795400\n",
      "epoch = 3 loss = 0.780017 score = 0.834200\n",
      "epoch = 4 loss = 0.652700 score = 0.856000\n",
      "epoch = 5 loss = 0.575315 score = 0.866000\n",
      "epoch = 6 loss = 0.522856 score = 0.873100\n",
      "epoch = 7 loss = 0.485339 score = 0.879100\n",
      "epoch = 8 loss = 0.457101 score = 0.884600\n",
      "epoch = 9 loss = 0.434487 score = 0.888400\n",
      "epoch = 10 loss = 0.416343 score = 0.891400\n",
      "epoch = 11 loss = 0.401457 score = 0.893900\n",
      "epoch = 12 loss = 0.388552 score = 0.896400\n",
      "epoch = 13 loss = 0.378025 score = 0.898200\n",
      "epoch = 14 loss = 0.368038 score = 0.900200\n",
      "epoch = 15 loss = 0.359661 score = 0.901400\n",
      "epoch = 16 loss = 0.352465 score = 0.904000\n",
      "epoch = 17 loss = 0.345642 score = 0.905600\n",
      "epoch = 18 loss = 0.339355 score = 0.906800\n",
      "epoch = 19 loss = 0.334006 score = 0.908300\n",
      "epoch = 20 loss = 0.328981 score = 0.909000\n",
      "epoch = 21 loss = 0.323938 score = 0.910700\n",
      "epoch = 22 loss = 0.320040 score = 0.911300\n",
      "epoch = 23 loss = 0.315711 score = 0.912500\n",
      "epoch = 24 loss = 0.311912 score = 0.913000\n",
      "epoch = 25 loss = 0.308507 score = 0.914400\n",
      "epoch = 26 loss = 0.305035 score = 0.914600\n",
      "epoch = 27 loss = 0.301807 score = 0.915700\n",
      "epoch = 28 loss = 0.299107 score = 0.915800\n",
      "epoch = 29 loss = 0.295625 score = 0.917100\n",
      "epoch = 30 loss = 0.293300 score = 0.917300\n",
      "epoch = 31 loss = 0.290777 score = 0.918500\n",
      "epoch = 32 loss = 0.288012 score = 0.918700\n",
      "epoch = 33 loss = 0.285289 score = 0.920100\n",
      "epoch = 34 loss = 0.283362 score = 0.920300\n",
      "epoch = 35 loss = 0.280927 score = 0.920500\n",
      "epoch = 36 loss = 0.279078 score = 0.922300\n",
      "epoch = 37 loss = 0.276658 score = 0.922200\n",
      "epoch = 38 loss = 0.274565 score = 0.922800\n",
      "epoch = 39 loss = 0.272721 score = 0.923300\n",
      "epoch = 40 loss = 0.270791 score = 0.925100\n",
      "epoch = 41 loss = 0.268679 score = 0.924000\n",
      "epoch = 42 loss = 0.266828 score = 0.924500\n",
      "epoch = 43 loss = 0.265247 score = 0.926100\n",
      "epoch = 44 loss = 0.263453 score = 0.925500\n",
      "epoch = 45 loss = 0.262024 score = 0.927700\n",
      "epoch = 46 loss = 0.260222 score = 0.927200\n",
      "epoch = 47 loss = 0.258447 score = 0.927700\n",
      "epoch = 48 loss = 0.256894 score = 0.928800\n",
      "epoch = 49 loss = 0.255342 score = 0.929200\n",
      "epoch = 50 loss = 0.253613 score = 0.929900\n",
      "epoch = 51 loss = 0.252087 score = 0.930200\n",
      "epoch = 52 loss = 0.250805 score = 0.929600\n",
      "epoch = 53 loss = 0.249304 score = 0.930600\n",
      "epoch = 54 loss = 0.247991 score = 0.930600\n",
      "epoch = 55 loss = 0.246238 score = 0.931800\n",
      "epoch = 56 loss = 0.244789 score = 0.931600\n",
      "epoch = 57 loss = 0.243597 score = 0.932000\n",
      "epoch = 58 loss = 0.242305 score = 0.932600\n",
      "epoch = 59 loss = 0.240859 score = 0.932600\n",
      "epoch = 60 loss = 0.239576 score = 0.933500\n",
      "epoch = 61 loss = 0.238315 score = 0.932900\n",
      "epoch = 62 loss = 0.237055 score = 0.933500\n",
      "epoch = 63 loss = 0.235871 score = 0.933400\n",
      "epoch = 64 loss = 0.234524 score = 0.934000\n",
      "epoch = 65 loss = 0.233561 score = 0.934400\n",
      "epoch = 66 loss = 0.232231 score = 0.934700\n",
      "epoch = 67 loss = 0.231492 score = 0.934600\n",
      "epoch = 68 loss = 0.230021 score = 0.935400\n",
      "epoch = 69 loss = 0.228905 score = 0.935700\n",
      "epoch = 70 loss = 0.227617 score = 0.936000\n",
      "epoch = 71 loss = 0.226491 score = 0.935700\n",
      "epoch = 72 loss = 0.225534 score = 0.936300\n",
      "epoch = 73 loss = 0.224673 score = 0.935900\n",
      "epoch = 74 loss = 0.223249 score = 0.936800\n",
      "epoch = 75 loss = 0.222288 score = 0.936900\n",
      "epoch = 76 loss = 0.221102 score = 0.937500\n",
      "epoch = 77 loss = 0.220321 score = 0.937200\n",
      "epoch = 78 loss = 0.219106 score = 0.937900\n",
      "epoch = 79 loss = 0.218051 score = 0.937600\n",
      "epoch = 80 loss = 0.217305 score = 0.938000\n",
      "epoch = 81 loss = 0.216353 score = 0.938100\n",
      "epoch = 82 loss = 0.215310 score = 0.938300\n",
      "epoch = 83 loss = 0.214280 score = 0.939600\n",
      "epoch = 84 loss = 0.213401 score = 0.939200\n",
      "epoch = 85 loss = 0.212598 score = 0.939800\n",
      "epoch = 86 loss = 0.211606 score = 0.939400\n",
      "epoch = 87 loss = 0.210409 score = 0.940700\n",
      "epoch = 88 loss = 0.209746 score = 0.940100\n",
      "epoch = 89 loss = 0.208963 score = 0.940300\n",
      "epoch = 90 loss = 0.207886 score = 0.940600\n",
      "epoch = 91 loss = 0.207074 score = 0.941100\n",
      "epoch = 92 loss = 0.206126 score = 0.941500\n",
      "epoch = 93 loss = 0.205281 score = 0.941800\n",
      "epoch = 94 loss = 0.204491 score = 0.941300\n",
      "epoch = 95 loss = 0.203492 score = 0.942200\n",
      "epoch = 96 loss = 0.202755 score = 0.941900\n",
      "epoch = 97 loss = 0.201899 score = 0.942700\n",
      "epoch = 98 loss = 0.200985 score = 0.943000\n",
      "epoch = 99 loss = 0.199998 score = 0.943100\n"
     ]
    }
   ],
   "source": [
    "# メイン処理 (シグモイド関数をLeRU関数に変更)\n",
    "while epoch < nb_epoch:\n",
    "    \n",
    "    # 学習対象の選択(ミニバッチ学習法)\n",
    "    index, next_flag = indexes.next_index()\n",
    "    x, yt = x_train[index], y_train_one[index]\n",
    "\n",
    "    # 予測値計算 (順伝播) \n",
    "    a = x @ V                         # (10.6.3)\n",
    "    b = ReLU(a)                       # (10.6.4) ReLU化\n",
    "    b1 = np.insert(b, 0, 1, axis=1)   # ダミー変数の追加 \n",
    "    u = b1 @ W                        # (10.6.5)   \n",
    "    yp = softmax(u)                   # (10.6.6)\n",
    "    \n",
    "    # 誤差計算 \n",
    "    yd = yp - yt                      # (10.6.7)\n",
    "    bd = step(a) * (yd @ W[1:].T)     #(10.6.8) ReLU化\n",
    "\n",
    "    # 勾配計算\n",
    "    W = W - alpha * (b1.T @ yd) / B   # (10.6.9)\n",
    "    V = V - alpha * (x.T @ bd) / B    # (10.6.10)\n",
    "\n",
    "    if next_flag: # 1epoch 終了後の処理\n",
    "        score, loss = evaluate2(\n",
    "            x_test, y_test, y_test_one, V, W)\n",
    "        history3 = np.vstack((history3, \n",
    "            np.array([epoch, loss, score])))\n",
    "        print(\"epoch = %d loss = %f score = %f\" \n",
    "            % (epoch, loss, score))\n",
    "        epoch = epoch + 1"
   ]
  },
  {
   "cell_type": "code",
   "execution_count": 67,
   "id": "741de50d",
   "metadata": {},
   "outputs": [
    {
     "name": "stdout",
     "output_type": "stream",
     "text": [
      "初期状態: 損失関数:2.436569 精度:0.054900\n",
      "最終状態: 損失関数:0.199998 精度:0.943100\n"
     ]
    }
   ],
   "source": [
    "#損失関数値と精度の確認\n",
    "print('初期状態: 損失関数:%f 精度:%f' \n",
    "        % (history3[0,1], history3[0,2]))\n",
    "print('最終状態: 損失関数:%f 精度:%f' \n",
    "        % (history3[-1,1], history3[-1,2]))"
   ]
  },
  {
   "cell_type": "code",
   "execution_count": 68,
   "id": "89d55ecd",
   "metadata": {},
   "outputs": [
    {
     "data": {
      "image/png": "[encoded data removed]",
      "text/plain": [
       "<Figure size 432x288 with 1 Axes>"
      ]
     },
     "metadata": {
      "needs_background": "light"
     },
     "output_type": "display_data"
    }
   ],
   "source": [
    "# 学習曲線の表示 (損失関数値)\n",
    "plt.plot(history3[:,0], history3[:,1])\n",
    "plt.ylim(0,2.5)\n",
    "plt.xticks(size=14)\n",
    "plt.yticks(size=14)\n",
    "plt.grid(lw=2)\n",
    "plt.show()"
   ]
  },
  {
   "cell_type": "code",
   "execution_count": 69,
   "id": "37c98568",
   "metadata": {},
   "outputs": [
    {
     "data": {
      "image/png": "[encoded data removed]",
      "text/plain": [
       "<Figure size 432x288 with 1 Axes>"
      ]
     },
     "metadata": {
      "needs_background": "light"
     },
     "output_type": "display_data"
    }
   ],
   "source": [
    "# 学習曲線の表示 (精度)\n",
    "plt.plot(history3[:,0], history3[:,2])\n",
    "plt.ylim(0,1)\n",
    "plt.xticks(size=14)\n",
    "plt.yticks(size=14)\n",
    "plt.grid(lw=2)\n",
    "plt.show()"
   ]
  },
  {
   "cell_type": "code",
   "execution_count": 71,
   "id": "1bb893f0",
   "metadata": {},
   "outputs": [
    {
     "data": {
      "image/png": "[encoded data removed]",
      "text/plain": [
       "<Figure size 720x216 with 20 Axes>"
      ]
     },
     "metadata": {
      "needs_background": "light"
     },
     "output_type": "display_data"
    }
   ],
   "source": [
    "# データ内容の確認\n",
    "# 2020-06-17\n",
    "# 読み込みデータが変わったため、図10-22と画像が変わっています。\n",
    "\n",
    "import matplotlib.pyplot as plt\n",
    "N = 20\n",
    "np.random.seed(12)\n",
    "indexes = np.random.choice(y_test.shape[0], N, replace=False)\n",
    "\n",
    "# x_orgの選択結果表示 (白黒反転)\n",
    "x_selected = x_test[indexes]\n",
    "y_selected = y_test[indexes]\n",
    "\n",
    "# 予測値の計算\n",
    "b1_test = np.insert(ReLU(x_selected @ V), 0, 1, axis=1)\n",
    "yp_test_one = softmax(b1_test @ W)\n",
    "yp_test = np.argmax(yp_test_one, axis=1)\n",
    "\n",
    "# グラフ表示\n",
    "plt.figure(figsize=(10, 3))\n",
    "for i in range(N):\n",
    "    ax = plt.subplot(2, int(N/2), i + 1)\n",
    "    plt.imshow(x_selected[i,1:].reshape(28, 28),cmap='gray_r')\n",
    "    ax.set_title('%d:%d' % (y_selected[i], yp_test[i]),fontsize=14 )\n",
    "    ax.get_xaxis().set_visible(False)\n",
    "    ax.get_yaxis().set_visible(False)\n",
    "plt.show()"
   ]
  },
  {
   "cell_type": "code",
   "execution_count": 72,
   "id": "c8ce9213",
   "metadata": {},
   "outputs": [],
   "source": [
    "# 評価処理 (隠れ層2階層対応版)\n",
    "from sklearn.metrics import accuracy_score\n",
    "\n",
    "def evaluate3(x_test, y_test, y_test_one, U, V, W):\n",
    "    b1_test = np.insert(ReLU(x_test @ U), 0, 1, axis=1)\n",
    "    d1_test = np.insert(ReLU(b1_test @ V), 0, 1, axis=1)\n",
    "    yp_test_one = softmax(d1_test @ W)\n",
    "    yp_test = np.argmax(yp_test_one, axis=1)\n",
    "    loss = cross_entropy(y_test_one, yp_test_one)\n",
    "    score = accuracy_score(y_test, yp_test)\n",
    "    return score, loss   "
   ]
  },
  {
   "cell_type": "code",
   "execution_count": 73,
   "id": "9c9841ac",
   "metadata": {},
   "outputs": [],
   "source": [
    "# 変数初期宣言 重み行列の初期化方式変更\n",
    "# 隠れ層のノード数\n",
    "H = 128\n",
    "H1 = H + 1\n",
    "# M: 訓練用系列データ総数\n",
    "M  = x_train.shape[0]\n",
    "\n",
    "# D: 入力データ次元数\n",
    "D = x_train.shape[1]\n",
    "\n",
    "# N: 分類クラス数\n",
    "N = y_train_one.shape[1]\n",
    "\n",
    "# 機械学習パラメータ\n",
    "alpha = 0.01\n",
    "nb_epoch = 200\n",
    "batch_size = 512\n",
    "B = batch_size\n",
    "\n",
    "# 重み行列の初期設定\n",
    "np.random.seed(123)\n",
    "U = np.random.randn(D, H) / np.sqrt(D / 2)\n",
    "V = np.random.randn(H1, H) / np.sqrt(H1 / 2)\n",
    "W = np.random.randn(H1, N) / np.sqrt(H1 / 2)\n",
    "\n",
    "# 評価結果記録用 (損失関数値と精度)\n",
    "history4 = np.zeros((0, 3))\n",
    "\n",
    "# ミニバッチ用関数初期化\n",
    "indexes = Indexes(M, batch_size)\n",
    "\n",
    "# 繰り返し回数カウンタ初期化\n",
    "epoch = 0"
   ]
  },
  {
   "cell_type": "code",
   "execution_count": 74,
   "id": "7e8bac75",
   "metadata": {},
   "outputs": [
    {
     "name": "stdout",
     "output_type": "stream",
     "text": [
      "epoch = 0 loss = 2.404732 score = 0.095700\n",
      "epoch = 1 loss = 1.390761 score = 0.731900\n",
      "epoch = 2 loss = 0.809097 score = 0.826400\n",
      "epoch = 3 loss = 0.598449 score = 0.854100\n",
      "epoch = 4 loss = 0.501668 score = 0.870400\n",
      "epoch = 5 loss = 0.446378 score = 0.882800\n",
      "epoch = 6 loss = 0.410481 score = 0.890000\n",
      "epoch = 7 loss = 0.385008 score = 0.894700\n",
      "epoch = 8 loss = 0.365350 score = 0.899400\n",
      "epoch = 9 loss = 0.350588 score = 0.901500\n",
      "epoch = 10 loss = 0.337182 score = 0.906500\n",
      "epoch = 11 loss = 0.326095 score = 0.908700\n",
      "epoch = 12 loss = 0.317588 score = 0.910200\n",
      "epoch = 13 loss = 0.308781 score = 0.912700\n",
      "epoch = 14 loss = 0.301556 score = 0.915000\n",
      "epoch = 15 loss = 0.294916 score = 0.916500\n",
      "epoch = 16 loss = 0.289156 score = 0.918200\n",
      "epoch = 17 loss = 0.283575 score = 0.919900\n",
      "epoch = 18 loss = 0.278465 score = 0.921500\n",
      "epoch = 19 loss = 0.274578 score = 0.922500\n",
      "epoch = 20 loss = 0.270068 score = 0.922700\n",
      "epoch = 21 loss = 0.264701 score = 0.925300\n",
      "epoch = 22 loss = 0.261377 score = 0.925400\n",
      "epoch = 23 loss = 0.257564 score = 0.927400\n",
      "epoch = 24 loss = 0.253855 score = 0.927600\n",
      "epoch = 25 loss = 0.251670 score = 0.928100\n",
      "epoch = 26 loss = 0.247317 score = 0.929900\n",
      "epoch = 27 loss = 0.243880 score = 0.931300\n",
      "epoch = 28 loss = 0.241111 score = 0.931600\n",
      "epoch = 29 loss = 0.238084 score = 0.932200\n",
      "epoch = 30 loss = 0.235561 score = 0.933100\n",
      "epoch = 31 loss = 0.233022 score = 0.934400\n",
      "epoch = 32 loss = 0.230330 score = 0.934700\n",
      "epoch = 33 loss = 0.227239 score = 0.936500\n",
      "epoch = 34 loss = 0.224482 score = 0.936600\n",
      "epoch = 35 loss = 0.222582 score = 0.937800\n",
      "epoch = 36 loss = 0.219916 score = 0.938300\n",
      "epoch = 37 loss = 0.217768 score = 0.939200\n",
      "epoch = 38 loss = 0.215529 score = 0.939700\n",
      "epoch = 39 loss = 0.213069 score = 0.940100\n",
      "epoch = 40 loss = 0.212107 score = 0.939600\n",
      "epoch = 41 loss = 0.209697 score = 0.940900\n",
      "epoch = 42 loss = 0.207207 score = 0.941000\n",
      "epoch = 43 loss = 0.204982 score = 0.941800\n",
      "epoch = 44 loss = 0.202837 score = 0.943300\n",
      "epoch = 45 loss = 0.201237 score = 0.942700\n",
      "epoch = 46 loss = 0.199469 score = 0.942700\n",
      "epoch = 47 loss = 0.197425 score = 0.944200\n",
      "epoch = 48 loss = 0.195939 score = 0.944800\n",
      "epoch = 49 loss = 0.194526 score = 0.944800\n",
      "epoch = 50 loss = 0.192342 score = 0.945800\n",
      "epoch = 51 loss = 0.190311 score = 0.946800\n",
      "epoch = 52 loss = 0.189234 score = 0.946300\n",
      "epoch = 53 loss = 0.187828 score = 0.947300\n",
      "epoch = 54 loss = 0.186032 score = 0.947200\n",
      "epoch = 55 loss = 0.184687 score = 0.948100\n",
      "epoch = 56 loss = 0.183174 score = 0.948700\n",
      "epoch = 57 loss = 0.181609 score = 0.949400\n",
      "epoch = 58 loss = 0.180052 score = 0.949900\n",
      "epoch = 59 loss = 0.178674 score = 0.949800\n",
      "epoch = 60 loss = 0.176609 score = 0.950100\n",
      "epoch = 61 loss = 0.175936 score = 0.950800\n",
      "epoch = 62 loss = 0.174290 score = 0.950700\n",
      "epoch = 63 loss = 0.173414 score = 0.951800\n",
      "epoch = 64 loss = 0.171767 score = 0.951600\n",
      "epoch = 65 loss = 0.170792 score = 0.952000\n",
      "epoch = 66 loss = 0.169514 score = 0.952100\n",
      "epoch = 67 loss = 0.168042 score = 0.952300\n",
      "epoch = 68 loss = 0.167028 score = 0.951800\n",
      "epoch = 69 loss = 0.165633 score = 0.953100\n",
      "epoch = 70 loss = 0.164725 score = 0.952900\n",
      "epoch = 71 loss = 0.164213 score = 0.952700\n",
      "epoch = 72 loss = 0.163091 score = 0.953400\n",
      "epoch = 73 loss = 0.161546 score = 0.953400\n",
      "epoch = 74 loss = 0.160451 score = 0.954100\n",
      "epoch = 75 loss = 0.159057 score = 0.953900\n",
      "epoch = 76 loss = 0.158350 score = 0.954500\n",
      "epoch = 77 loss = 0.157033 score = 0.955000\n",
      "epoch = 78 loss = 0.156025 score = 0.954700\n",
      "epoch = 79 loss = 0.155860 score = 0.954900\n",
      "epoch = 80 loss = 0.154282 score = 0.955400\n",
      "epoch = 81 loss = 0.153300 score = 0.955700\n",
      "epoch = 82 loss = 0.152625 score = 0.955900\n",
      "epoch = 83 loss = 0.151914 score = 0.956100\n",
      "epoch = 84 loss = 0.150603 score = 0.956700\n",
      "epoch = 85 loss = 0.150139 score = 0.957600\n",
      "epoch = 86 loss = 0.149189 score = 0.957300\n",
      "epoch = 87 loss = 0.147983 score = 0.957500\n",
      "epoch = 88 loss = 0.147293 score = 0.958400\n",
      "epoch = 89 loss = 0.146685 score = 0.958300\n",
      "epoch = 90 loss = 0.145358 score = 0.957200\n",
      "epoch = 91 loss = 0.144706 score = 0.958300\n",
      "epoch = 92 loss = 0.144184 score = 0.958700\n",
      "epoch = 93 loss = 0.142999 score = 0.958900\n",
      "epoch = 94 loss = 0.142755 score = 0.959700\n",
      "epoch = 95 loss = 0.141733 score = 0.959800\n",
      "epoch = 96 loss = 0.140657 score = 0.960000\n",
      "epoch = 97 loss = 0.140632 score = 0.960100\n",
      "epoch = 98 loss = 0.139482 score = 0.960300\n",
      "epoch = 99 loss = 0.138748 score = 0.960900\n",
      "epoch = 100 loss = 0.138259 score = 0.960300\n",
      "epoch = 101 loss = 0.137889 score = 0.961300\n",
      "epoch = 102 loss = 0.137695 score = 0.961000\n",
      "epoch = 103 loss = 0.135861 score = 0.961400\n",
      "epoch = 104 loss = 0.135847 score = 0.961600\n",
      "epoch = 105 loss = 0.135468 score = 0.961500\n",
      "epoch = 106 loss = 0.134374 score = 0.961900\n",
      "epoch = 107 loss = 0.133691 score = 0.962300\n",
      "epoch = 108 loss = 0.132659 score = 0.962700\n",
      "epoch = 109 loss = 0.132228 score = 0.962000\n",
      "epoch = 110 loss = 0.131554 score = 0.963300\n",
      "epoch = 111 loss = 0.131513 score = 0.962400\n",
      "epoch = 112 loss = 0.130738 score = 0.963500\n",
      "epoch = 113 loss = 0.129593 score = 0.963000\n",
      "epoch = 114 loss = 0.129283 score = 0.963800\n",
      "epoch = 115 loss = 0.129092 score = 0.964200\n",
      "epoch = 116 loss = 0.128536 score = 0.963900\n",
      "epoch = 117 loss = 0.127523 score = 0.963700\n",
      "epoch = 118 loss = 0.127709 score = 0.964300\n",
      "epoch = 119 loss = 0.126372 score = 0.963800\n",
      "epoch = 120 loss = 0.125998 score = 0.964400\n",
      "epoch = 121 loss = 0.125508 score = 0.964200\n",
      "epoch = 122 loss = 0.124820 score = 0.963600\n",
      "epoch = 123 loss = 0.124785 score = 0.965300\n",
      "epoch = 124 loss = 0.124458 score = 0.965000\n",
      "epoch = 125 loss = 0.123293 score = 0.965600\n",
      "epoch = 126 loss = 0.123145 score = 0.965700\n",
      "epoch = 127 loss = 0.122476 score = 0.964800\n",
      "epoch = 128 loss = 0.122412 score = 0.965600\n",
      "epoch = 129 loss = 0.121964 score = 0.965700\n",
      "epoch = 130 loss = 0.121149 score = 0.964800\n",
      "epoch = 131 loss = 0.120662 score = 0.965800\n",
      "epoch = 132 loss = 0.120475 score = 0.966300\n",
      "epoch = 133 loss = 0.119727 score = 0.966100\n",
      "epoch = 134 loss = 0.119460 score = 0.966400\n",
      "epoch = 135 loss = 0.119631 score = 0.967000\n",
      "epoch = 136 loss = 0.118973 score = 0.966100\n",
      "epoch = 137 loss = 0.118175 score = 0.966400\n",
      "epoch = 138 loss = 0.117947 score = 0.966200\n",
      "epoch = 139 loss = 0.117155 score = 0.967000\n",
      "epoch = 140 loss = 0.117129 score = 0.966600\n",
      "epoch = 141 loss = 0.116835 score = 0.967300\n",
      "epoch = 142 loss = 0.116227 score = 0.966400\n",
      "epoch = 143 loss = 0.115729 score = 0.967000\n",
      "epoch = 144 loss = 0.115517 score = 0.967600\n",
      "epoch = 145 loss = 0.114923 score = 0.967400\n",
      "epoch = 146 loss = 0.114746 score = 0.967600\n",
      "epoch = 147 loss = 0.114011 score = 0.967500\n",
      "epoch = 148 loss = 0.113659 score = 0.967400\n",
      "epoch = 149 loss = 0.113253 score = 0.967900\n",
      "epoch = 150 loss = 0.113081 score = 0.968100\n",
      "epoch = 151 loss = 0.112348 score = 0.967200\n",
      "epoch = 152 loss = 0.112552 score = 0.967900\n",
      "epoch = 153 loss = 0.111657 score = 0.967900\n",
      "epoch = 154 loss = 0.111730 score = 0.968300\n",
      "epoch = 155 loss = 0.111118 score = 0.968300\n",
      "epoch = 156 loss = 0.111313 score = 0.968300\n",
      "epoch = 157 loss = 0.110137 score = 0.968500\n",
      "epoch = 158 loss = 0.110059 score = 0.968800\n",
      "epoch = 159 loss = 0.109676 score = 0.968700\n",
      "epoch = 160 loss = 0.109432 score = 0.969000\n",
      "epoch = 161 loss = 0.109268 score = 0.968700\n",
      "epoch = 162 loss = 0.108568 score = 0.968800\n",
      "epoch = 163 loss = 0.108452 score = 0.968500\n",
      "epoch = 164 loss = 0.108532 score = 0.969600\n",
      "epoch = 165 loss = 0.107804 score = 0.969200\n",
      "epoch = 166 loss = 0.108179 score = 0.969400\n",
      "epoch = 167 loss = 0.107153 score = 0.970200\n",
      "epoch = 168 loss = 0.107403 score = 0.969800\n",
      "epoch = 169 loss = 0.107051 score = 0.970100\n",
      "epoch = 170 loss = 0.106354 score = 0.970000\n",
      "epoch = 171 loss = 0.105720 score = 0.970100\n",
      "epoch = 172 loss = 0.105514 score = 0.970100\n",
      "epoch = 173 loss = 0.105791 score = 0.970200\n",
      "epoch = 174 loss = 0.105169 score = 0.969600\n",
      "epoch = 175 loss = 0.104842 score = 0.970200\n",
      "epoch = 176 loss = 0.104885 score = 0.970300\n",
      "epoch = 177 loss = 0.104146 score = 0.970400\n",
      "epoch = 178 loss = 0.103685 score = 0.970700\n",
      "epoch = 179 loss = 0.103868 score = 0.970500\n",
      "epoch = 180 loss = 0.103101 score = 0.970500\n",
      "epoch = 181 loss = 0.103548 score = 0.970400\n",
      "epoch = 182 loss = 0.103222 score = 0.970100\n",
      "epoch = 183 loss = 0.103381 score = 0.970600\n",
      "epoch = 184 loss = 0.102601 score = 0.971000\n"
     ]
    },
    {
     "name": "stdout",
     "output_type": "stream",
     "text": [
      "epoch = 185 loss = 0.102185 score = 0.970400\n",
      "epoch = 186 loss = 0.101844 score = 0.971000\n",
      "epoch = 187 loss = 0.101706 score = 0.970800\n",
      "epoch = 188 loss = 0.101089 score = 0.971100\n",
      "epoch = 189 loss = 0.100921 score = 0.971100\n",
      "epoch = 190 loss = 0.101290 score = 0.971100\n",
      "epoch = 191 loss = 0.100492 score = 0.971200\n",
      "epoch = 192 loss = 0.100561 score = 0.971100\n",
      "epoch = 193 loss = 0.100121 score = 0.971700\n",
      "epoch = 194 loss = 0.100390 score = 0.971600\n",
      "epoch = 195 loss = 0.099790 score = 0.971600\n",
      "epoch = 196 loss = 0.099591 score = 0.971400\n",
      "epoch = 197 loss = 0.099159 score = 0.971400\n",
      "epoch = 198 loss = 0.099475 score = 0.971800\n",
      "epoch = 199 loss = 0.098557 score = 0.971100\n"
     ]
    }
   ],
   "source": [
    "# メイン処理 (隠れ層2層化)\n",
    "\n",
    "while epoch < nb_epoch:\n",
    "    # 学習対象の選択(ミニバッチ学習法)\n",
    "    index, next_flag = indexes.next_index()\n",
    "    x, yt = x_train[index], y_train_one[index]\n",
    "    \n",
    "    # 予測値計算 (順伝播) \n",
    "    a = x @ U                        # (10.6.11)\n",
    "    b = ReLU(a)                      # (10.6.12)\n",
    "    b1 = np.insert(b, 0, 1, axis=1)  # ダミー変数の追加 \n",
    "    c = b1 @ V                       # (10.6.13)\n",
    "    d = ReLU(c)                      # (10.6.14)\n",
    "    d1 = np.insert(d, 0, 1, axis=1)  # ダミー変数の追加\n",
    "    u = d1 @ W                       # (10.6.15)   \n",
    "    yp = softmax(u)                  # (10.6.16)\n",
    "    \n",
    "    # 誤差計算 \n",
    "    yd = yp - yt                     # (10.6.17)\n",
    "    dd = step(c) * (yd @ W[1:].T)    # (10.6.18)\n",
    "    bd = step(a) * (dd @ V[1:].T)    # (10.6.19) \n",
    "\n",
    "    # 勾配計算\n",
    "    W = W - alpha * (d1.T @ yd) / B  # (10.6.20)\n",
    "    V = V - alpha * (b1.T @ dd) / B  # (10.6.21)\n",
    "    U = U - alpha * (x.T @ bd) / B   # (10.6.22)\n",
    "\n",
    "    if next_flag: # 1epoch 終了後の処理\n",
    "        score, loss = evaluate3(\n",
    "            x_test, y_test, y_test_one, U, V, W)\n",
    "        history4 = np.vstack((history4, \n",
    "            np.array([epoch, loss, score])))\n",
    "        print(\"epoch = %d loss = %f score = %f\" \n",
    "            % (epoch, loss, score))\n",
    "        epoch = epoch + 1  "
   ]
  },
  {
   "cell_type": "code",
   "execution_count": 75,
   "id": "c7607e01",
   "metadata": {},
   "outputs": [
    {
     "name": "stdout",
     "output_type": "stream",
     "text": [
      "初期状態: 損失関数:1.390761 精度:0.731900\n",
      "最終状態: 損失関数:0.098557 精度:0.971100\n"
     ]
    }
   ],
   "source": [
    "#損失関数値と精度の確認\n",
    "print('初期状態: 損失関数:%f 精度:%f' \n",
    "    % (history4[1,1], history4[1,2]))\n",
    "print('最終状態: 損失関数:%f 精度:%f' \n",
    "    % (history4[-1,1], history4[-1,2]))"
   ]
  },
  {
   "cell_type": "code",
   "execution_count": 76,
   "id": "9e67ba01",
   "metadata": {},
   "outputs": [
    {
     "data": {
      "image/png": "[encoded data removed]",
      "text/plain": [
       "<Figure size 432x288 with 1 Axes>"
      ]
     },
     "metadata": {
      "needs_background": "light"
     },
     "output_type": "display_data"
    }
   ],
   "source": [
    "# 学習曲線の表示 (損失関数値)\n",
    "plt.plot(history4[:,0], history4[:,1])\n",
    "plt.ylim(0,2.5)\n",
    "plt.xticks(size=14)\n",
    "plt.yticks(size=14)\n",
    "plt.grid(lw=2)\n",
    "plt.show()"
   ]
  },
  {
   "cell_type": "code",
   "execution_count": 77,
   "id": "e1a9ed29",
   "metadata": {},
   "outputs": [
    {
     "data": {
      "image/png": "[encoded data removed]",
      "text/plain": [
       "<Figure size 432x288 with 1 Axes>"
      ]
     },
     "metadata": {
      "needs_background": "light"
     },
     "output_type": "display_data"
    }
   ],
   "source": [
    "# 学習曲線の表示 (精度)\n",
    "plt.plot(history4[:,0], history4[:,2])\n",
    "plt.ylim(0,1)\n",
    "plt.xticks(size=14)\n",
    "plt.yticks(size=14)\n",
    "plt.grid(lw=2)\n",
    "plt.show()"
   ]
  },
  {
   "cell_type": "code",
   "execution_count": 79,
   "id": "288b2c29",
   "metadata": {},
   "outputs": [
    {
     "data": {
      "image/png": "[encoded data removed]",
      "text/plain": [
       "<Figure size 720x216 with 20 Axes>"
      ]
     },
     "metadata": {
      "needs_background": "light"
     },
     "output_type": "display_data"
    }
   ],
   "source": [
    "# データ内容の確認\n",
    "# 2020-06-17 \n",
    "# 読み込みデータが変わったため、図10-26と画像が変わっています。\n",
    "\n",
    "import matplotlib.pyplot as plt\n",
    "N = 20\n",
    "np.random.seed(12)\n",
    "indexes = np.random.choice(y_test.shape[0], N, replace=False)\n",
    "\n",
    "# x_orgの選択結果表示 (白黒反転)\n",
    "x_selected = x_test[indexes]\n",
    "y_selected = y_test[indexes]\n",
    "\n",
    "# 予測値の計算\n",
    "b1_test = np.insert(ReLU(x_selected @ U), 0, 1, axis=1)\n",
    "d1_test = np.insert(ReLU(b1_test @ V), 0, 1, axis=1)\n",
    "yp_test_one = softmax(d1_test @ W)\n",
    "yp_test = np.argmax(yp_test_one, axis=1)\n",
    "\n",
    "# グラフ表示\n",
    "plt.figure(figsize=(10, 3))\n",
    "for i in range(N):\n",
    "    ax = plt.subplot(2, int(N/2), i + 1)\n",
    "    plt.imshow(x_selected[i,1:].reshape(28, 28),cmap='gray_r')\n",
    "    ax.set_title('%d:%d' % (y_selected[i], yp_test[i]),fontsize=14 )\n",
    "    ax.get_xaxis().set_visible(False)\n",
    "    ax.get_yaxis().set_visible(False)\n",
    "plt.show()"
   ]
  },
  {
   "cell_type": "code",
   "execution_count": null,
   "id": "d3e89b47",
   "metadata": {},
   "outputs": [],
   "source": []
  }
 ],
 "metadata": {
  "kernelspec": {
   "display_name": "Python 3 (ipykernel)",
   "language": "python",
   "name": "python3"
  },
  "language_info": {
   "codemirror_mode": {
    "name": "ipython",
    "version": 3
   },
   "file_extension": ".py",
   "mimetype": "text/x-python",
   "name": "python",
   "nbconvert_exporter": "python",
   "pygments_lexer": "ipython3",
   "version": "3.9.1"
  }
 },
 "nbformat": 4,
 "nbformat_minor": 5
}
